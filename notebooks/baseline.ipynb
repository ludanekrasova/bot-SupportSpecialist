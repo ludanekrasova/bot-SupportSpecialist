{
  "cells": [
    {
      "cell_type": "code",
      "execution_count": null,
      "id": "b733a7ec",
      "metadata": {
        "id": "b733a7ec"
      },
      "outputs": [],
      "source": [
        "import pandas as pd\n",
        "import numpy as np\n",
        "import re\n",
        "from tqdm.notebook import tqdm\n",
        "tqdm.pandas()\n",
        "\n",
        "from sklearn.feature_extraction.text import CountVectorizer, TfidfVectorizer\n",
        "from sklearn.metrics.pairwise import cosine_similarity\n",
        "from sklearn.linear_model import LogisticRegression, SGDClassifier"
      ]
    },
    {
      "cell_type": "markdown",
      "source": [
        "Здесь выполняется *подготовка* и *загрузка* **стоп-слов**:"
      ],
      "metadata": {
        "id": "OZfFVnlPev-Y"
      },
      "id": "OZfFVnlPev-Y"
    },
    {
      "cell_type": "code",
      "execution_count": null,
      "id": "5448b0ae",
      "metadata": {
        "id": "5448b0ae"
      },
      "outputs": [],
      "source": [
        "import nltk\n",
        "import spacy\n",
        "\n",
        "stopwords_nltk = nltk.corpus.stopwords.words('russian') # лист русских стоп-слов\n",
        "stopwords_nltk_en = nltk.corpus.stopwords.words('english')\n",
        "stopwords_nltk.extend(stopwords_nltk_en) # если есть текста на английском\n",
        "\n",
        "new_stop = ['здравствовать', 'подсказать', 'сказать', \"пожалуйста\", \"спасибо\",  \"благодарить\", \"извинить\",\n",
        "            'вопрос','тема', \"ответ\", \"ответить\", \"почему\", \"что\",\n",
        "            'которая', 'которой', 'которую', 'которые', 'который', 'которых', 'это', \"мочь\",\n",
        "            'вообще', \"всё\", \"весь\", \"ещё\", \"просто\", 'точно', \"хотя\", \"именно\", 'неужели',]\n",
        "stopwords_nltk.extend(new_stop)\n",
        "\n",
        "lemmatizer = spacy.load('ru_core_news_md', disable = ['parser', 'ner'])"
      ]
    },
    {
      "cell_type": "code",
      "execution_count": null,
      "id": "52816a31",
      "metadata": {
        "id": "52816a31"
      },
      "outputs": [],
      "source": [
        "# сохраним стоп слова, чтобы не загружать ради них nltk\n",
        "with open(\"model/stopwords.txt\", \"w\") as f:\n",
        "    for name in stopwords_nltk[:-1]:\n",
        "        f.write(f\"{name}\\n\")\n",
        "        f.write(stopwords_nltk[-1])\n"
      ]
    },
    {
      "cell_type": "markdown",
      "source": [
        "Здесь находятся *функции*, служащие для *подготовки текста* для его дальнейшей передачи в **языковую модель**:"
      ],
      "metadata": {
        "id": "WfnuZVD0e88Q"
      },
      "id": "WfnuZVD0e88Q"
    },
    {
      "cell_type": "code",
      "execution_count": null,
      "id": "db787fcd",
      "metadata": {
        "id": "db787fcd"
      },
      "outputs": [],
      "source": [
        "# очистка текста\n",
        "def full_clean(text):\n",
        "    '''подготовка текста к подаче в модель для каждого текста (через applay)'''\n",
        "    text=re.sub(r\"[^a-zA-Zа-яА-ЯёЁ0-9#]\", \" \", text)\n",
        "    text = text.lower()\n",
        "    text = re.sub(\" +\", \" \", text).strip() # оставляем только 1 пробел\n",
        "    # токены для моделей\n",
        "    tokens = [token.lemma_ for token in lemmatizer(text) if token.lemma_ not in stopwords_nltk]\n",
        "    # для tfidf на вход текст\n",
        "    text = \" \".join(tokens)\n",
        "    return text, tokens\n",
        "\n",
        "\n",
        "def preprocess_text(df):\n",
        "    '''подготовка текста к подаче в модель колонкой'''\n",
        "    new_corpus=[]\n",
        "    new_tokens=[]\n",
        "\n",
        "    for text in tqdm(df):\n",
        "        text, tokens = full_clean(text)\n",
        "        new_corpus.append(text)\n",
        "        new_tokens.append(tokens)\n",
        "\n",
        "    return new_corpus, new_tokens"
      ]
    },
    {
      "cell_type": "code",
      "execution_count": null,
      "id": "616bc2b2",
      "metadata": {
        "id": "616bc2b2"
      },
      "outputs": [],
      "source": [
        "def tfidf_fit(train=None, test=None, tfidf=True, ngram_range=(1, 1), max_features=1000, save=False):\n",
        "    # на вход текст\n",
        "    # min_df : игнорируются термины, частота употребления которых строго ниже заданного порога.\n",
        "    # max_df : игнорируются термины, частота которых строго превышает заданный порог\n",
        "    if test:\n",
        "        data = pd.concat([train, test])\n",
        "    else:\n",
        "        data = train\n",
        "    if tfidf:\n",
        "        model = TfidfVectorizer(ngram_range=(1, 1), max_features=max_features, analyzer='word', #max_df = 0.9,\n",
        "                            lowercase = False, sublinear_tf=True)\n",
        "    else:\n",
        "        model = CountVectorizer(max_features=max_features)\n",
        "    # тренировка\n",
        "    model.fit(data)\n",
        "\n",
        "    # сохранение натренированной модели для приложения\n",
        "    if save:\n",
        "        joblib.dump(model, 'tfidf.pkl')\n",
        "\n",
        "    return model\n",
        "\n",
        "def tfidf_embeding(model=None, df=None):\n",
        "    '''Преобразование текста в мешок слов'''\n",
        "    if model==None:\n",
        "        # загрузить если нет\n",
        "        model = joblib.load('tfidf.pkl')\n",
        "    else:\n",
        "        model=model\n",
        "    X = model.transform(df)\n",
        "\n",
        "    return X.toarray()"
      ]
    },
    {
      "cell_type": "markdown",
      "source": [
        "Здесь мы загружаем *тренировочный датафрейм*, дополняем его сторонней аргументацией, форматируем, и сохраняем его в файл:"
      ],
      "metadata": {
        "id": "zwYoJRgggkx4"
      },
      "id": "zwYoJRgggkx4"
    },
    {
      "cell_type": "code",
      "execution_count": null,
      "id": "1cc62918",
      "metadata": {
        "id": "1cc62918",
        "outputId": "45ffc5e4-6371-4bcc-e0a7-718159e82dc6"
      },
      "outputs": [
        {
          "data": {
            "text/html": [
              "<div>\n",
              "<style scoped>\n",
              "    .dataframe tbody tr th:only-of-type {\n",
              "        vertical-align: middle;\n",
              "    }\n",
              "\n",
              "    .dataframe tbody tr th {\n",
              "        vertical-align: top;\n",
              "    }\n",
              "\n",
              "    .dataframe thead th {\n",
              "        text-align: right;\n",
              "    }\n",
              "</style>\n",
              "<table border=\"1\" class=\"dataframe\">\n",
              "  <thead>\n",
              "    <tr style=\"text-align: right;\">\n",
              "      <th></th>\n",
              "      <th>Question</th>\n",
              "      <th>Category</th>\n",
              "      <th>answer_class</th>\n",
              "    </tr>\n",
              "  </thead>\n",
              "  <tbody>\n",
              "    <tr>\n",
              "      <th>0</th>\n",
              "      <td>Что делать, если я хочу изменить группу или сп...</td>\n",
              "      <td>Перевод/ запись в группу</td>\n",
              "      <td>11</td>\n",
              "    </tr>\n",
              "    <tr>\n",
              "      <th>1</th>\n",
              "      <td>Из чего состоит основное обучение в личном каб...</td>\n",
              "      <td>Портал</td>\n",
              "      <td>15</td>\n",
              "    </tr>\n",
              "    <tr>\n",
              "      <th>2</th>\n",
              "      <td>Что входит в программу помощи с трудоустройств...</td>\n",
              "      <td>Трудоустройство</td>\n",
              "      <td>27</td>\n",
              "    </tr>\n",
              "    <tr>\n",
              "      <th>3</th>\n",
              "      <td>Подскажите расписание каникул в 2024, пожалуйста</td>\n",
              "      <td>Расписание</td>\n",
              "      <td>21</td>\n",
              "    </tr>\n",
              "    <tr>\n",
              "      <th>4</th>\n",
              "      <td>Какие инструменты и ресурсы вы предоставляете ...</td>\n",
              "      <td>Трудоустройство</td>\n",
              "      <td>25</td>\n",
              "    </tr>\n",
              "  </tbody>\n",
              "</table>\n",
              "</div>"
            ],
            "text/plain": [
              "                                            Question  \\\n",
              "0  Что делать, если я хочу изменить группу или сп...   \n",
              "1  Из чего состоит основное обучение в личном каб...   \n",
              "2  Что входит в программу помощи с трудоустройств...   \n",
              "3   Подскажите расписание каникул в 2024, пожалуйста   \n",
              "4  Какие инструменты и ресурсы вы предоставляете ...   \n",
              "\n",
              "                   Category  answer_class  \n",
              "0  Перевод/ запись в группу            11  \n",
              "1                    Портал            15  \n",
              "2           Трудоустройство            27  \n",
              "3                Расписание            21  \n",
              "4           Трудоустройство            25  "
            ]
          },
          "execution_count": 135,
          "metadata": {},
          "output_type": "execute_result"
        }
      ],
      "source": [
        "train = pd.read_csv('train_SecondPilot/train_data.csv', sep=',', index_col=None)\n",
        "train.head()"
      ]
    },
    {
      "cell_type": "code",
      "execution_count": null,
      "id": "5d8b7597",
      "metadata": {
        "id": "5d8b7597",
        "outputId": "2bf1fba9-1da7-4ca4-98f0-d819c7bf4436"
      },
      "outputs": [
        {
          "data": {
            "text/html": [
              "<div>\n",
              "<style scoped>\n",
              "    .dataframe tbody tr th:only-of-type {\n",
              "        vertical-align: middle;\n",
              "    }\n",
              "\n",
              "    .dataframe tbody tr th {\n",
              "        vertical-align: top;\n",
              "    }\n",
              "\n",
              "    .dataframe thead th {\n",
              "        text-align: right;\n",
              "    }\n",
              "</style>\n",
              "<table border=\"1\" class=\"dataframe\">\n",
              "  <thead>\n",
              "    <tr style=\"text-align: right;\">\n",
              "      <th></th>\n",
              "      <th>Question</th>\n",
              "      <th>Category</th>\n",
              "      <th>answer_class</th>\n",
              "    </tr>\n",
              "  </thead>\n",
              "  <tbody>\n",
              "    <tr>\n",
              "      <th>0</th>\n",
              "      <td>Где можно узнать о документах или сертификатах...</td>\n",
              "      <td>Документы</td>\n",
              "      <td>0</td>\n",
              "    </tr>\n",
              "    <tr>\n",
              "      <th>1</th>\n",
              "      <td>Какой документ я получу после обучения?</td>\n",
              "      <td>Документы</td>\n",
              "      <td>0</td>\n",
              "    </tr>\n",
              "    <tr>\n",
              "      <th>2</th>\n",
              "      <td>Какие аккредитации или удостоверения я могу ож...</td>\n",
              "      <td>Документы</td>\n",
              "      <td>0</td>\n",
              "    </tr>\n",
              "    <tr>\n",
              "      <th>3</th>\n",
              "      <td>Как происходит выдача дипломов студентам?</td>\n",
              "      <td>Документы</td>\n",
              "      <td>0</td>\n",
              "    </tr>\n",
              "    <tr>\n",
              "      <th>4</th>\n",
              "      <td>Где можно узнать о том, как получить документы...</td>\n",
              "      <td>Документы</td>\n",
              "      <td>0</td>\n",
              "    </tr>\n",
              "  </tbody>\n",
              "</table>\n",
              "</div>"
            ],
            "text/plain": [
              "                                            Question   Category  answer_class\n",
              "0  Где можно узнать о документах или сертификатах...  Документы             0\n",
              "1            Какой документ я получу после обучения?  Документы             0\n",
              "2  Какие аккредитации или удостоверения я могу ож...  Документы             0\n",
              "3          Как происходит выдача дипломов студентам?  Документы             0\n",
              "4  Где можно узнать о том, как получить документы...  Документы             0"
            ]
          },
          "execution_count": 202,
          "metadata": {},
          "output_type": "execute_result"
        }
      ],
      "source": [
        "# дополнительные аргументации в разных файлах\n",
        "frame_list = ['data/train_data_new0.csv', 'data/train_data_new1-.csv', 'data/train_data_spell.csv',\n",
        "              'data/call_operator.csv', 'data/19_osn.csv', \"data/train_ayg.csv\", \"data/train_data_new_new.csv\"]\n",
        "train = pd.concat(map(pd.read_csv, frame_list), axis=0, ignore_index=True)\n",
        "train.drop_duplicates(subset=['Question'], inplace=True, ignore_index=True)\n",
        "train = train[['Question', 'Category', 'answer_class']]\n",
        "train.dropna(how='any', axis=0, ignore_index=True, inplace=True)\n",
        "train['answer_class'] = train['answer_class'].astype(int)\n",
        "train.head()"
      ]
    },
    {
      "cell_type": "code",
      "execution_count": null,
      "id": "a706476d",
      "metadata": {
        "id": "a706476d",
        "outputId": "044cb4b1-8abc-4bcc-f2f8-d64dcccf2b72"
      },
      "outputs": [
        {
          "data": {
            "text/plain": [
              "(1369, 3)"
            ]
          },
          "execution_count": 203,
          "metadata": {},
          "output_type": "execute_result"
        }
      ],
      "source": [
        "train.shape"
      ]
    },
    {
      "cell_type": "code",
      "execution_count": null,
      "id": "f6b72acd",
      "metadata": {
        "id": "f6b72acd"
      },
      "outputs": [],
      "source": [
        "train[['Question', 'Category', 'answer_class']].to_csv('data/train_1.csv', sep=',', index=False)"
      ]
    },
    {
      "cell_type": "markdown",
      "source": [
        "Добавляем *отдельный класс_ответа*, при котором бот будет переключать нас **на оператора**:"
      ],
      "metadata": {
        "id": "3r3d_IdOhVRf"
      },
      "id": "3r3d_IdOhVRf"
    },
    {
      "cell_type": "code",
      "execution_count": null,
      "id": "c7a5be28",
      "metadata": {
        "id": "c7a5be28",
        "outputId": "05e90321-91be-40a7-e39c-b8de0f470ce8"
      },
      "outputs": [
        {
          "data": {
            "text/html": [
              "<div>\n",
              "<style scoped>\n",
              "    .dataframe tbody tr th:only-of-type {\n",
              "        vertical-align: middle;\n",
              "    }\n",
              "\n",
              "    .dataframe tbody tr th {\n",
              "        vertical-align: top;\n",
              "    }\n",
              "\n",
              "    .dataframe thead th {\n",
              "        text-align: right;\n",
              "    }\n",
              "</style>\n",
              "<table border=\"1\" class=\"dataframe\">\n",
              "  <thead>\n",
              "    <tr style=\"text-align: right;\">\n",
              "      <th></th>\n",
              "      <th>answer_class</th>\n",
              "      <th>Answer</th>\n",
              "    </tr>\n",
              "  </thead>\n",
              "  <tbody>\n",
              "    <tr>\n",
              "      <th>0</th>\n",
              "      <td>0</td>\n",
              "      <td>После успешного прохождения выпускных испытани...</td>\n",
              "    </tr>\n",
              "    <tr>\n",
              "      <th>1</th>\n",
              "      <td>1</td>\n",
              "      <td>Чтобы получить итоговый документ, нужно сдать ...</td>\n",
              "    </tr>\n",
              "    <tr>\n",
              "      <th>2</th>\n",
              "      <td>2</td>\n",
              "      <td>Можем его выдать, если вы:\\n\\nоплатили обучени...</td>\n",
              "    </tr>\n",
              "    <tr>\n",
              "      <th>3</th>\n",
              "      <td>3</td>\n",
              "      <td>Можем его выдать, если вы:\\n\\nоплатили обучени...</td>\n",
              "    </tr>\n",
              "    <tr>\n",
              "      <th>4</th>\n",
              "      <td>4</td>\n",
              "      <td>Диплом или удостоверение отправим бесплатно По...</td>\n",
              "    </tr>\n",
              "  </tbody>\n",
              "</table>\n",
              "</div>"
            ],
            "text/plain": [
              "   answer_class                                             Answer\n",
              "0             0  После успешного прохождения выпускных испытани...\n",
              "1             1  Чтобы получить итоговый документ, нужно сдать ...\n",
              "2             2  Можем его выдать, если вы:\\n\\nоплатили обучени...\n",
              "3             3  Можем его выдать, если вы:\\n\\nоплатили обучени...\n",
              "4             4  Диплом или удостоверение отправим бесплатно По..."
            ]
          },
          "execution_count": 205,
          "metadata": {},
          "output_type": "execute_result"
        }
      ],
      "source": [
        "train_answer_class = pd.read_csv('train_SecondPilot/answer_class.csv', sep=',', index_col=None)\n",
        "# добавление нового класса для переключения на оператора\n",
        "train_answer_class.loc[len(train_answer_class.index )] = [30, 'Переключаю на оператора']\n",
        "train_answer_class.head()"
      ]
    },
    {
      "cell_type": "code",
      "execution_count": null,
      "id": "d218d497",
      "metadata": {
        "id": "d218d497",
        "outputId": "9a1572d6-c661-4cf5-84bc-12b14732a194"
      },
      "outputs": [
        {
          "data": {
            "text/plain": [
              "(31, 2)"
            ]
          },
          "execution_count": 206,
          "metadata": {},
          "output_type": "execute_result"
        }
      ],
      "source": [
        "train_answer_class.shape"
      ]
    },
    {
      "cell_type": "markdown",
      "id": "d63bab51",
      "metadata": {
        "id": "d63bab51"
      },
      "source": [
        "Далее, происходит **обработка текста**, а именно: создание новых столбцов с токенами и \"чистым текстом\":"
      ]
    },
    {
      "cell_type": "code",
      "execution_count": null,
      "id": "f92e2f9f",
      "metadata": {
        "colab": {
          "referenced_widgets": [
            "0ae841f5215e4206b7082ac56c95a05f"
          ]
        },
        "id": "f92e2f9f",
        "outputId": "e451acba-a10b-4159-84d2-a9394dc58e36"
      },
      "outputs": [
        {
          "data": {
            "application/vnd.jupyter.widget-view+json": {
              "model_id": "0ae841f5215e4206b7082ac56c95a05f",
              "version_major": 2,
              "version_minor": 0
            },
            "text/plain": [
              "  0%|          | 0/1369 [00:00<?, ?it/s]"
            ]
          },
          "metadata": {},
          "output_type": "display_data"
        }
      ],
      "source": [
        "train['text_clean'], train['tokens']=preprocess_text(train['Question'])"
      ]
    },
    {
      "cell_type": "code",
      "execution_count": null,
      "id": "2eec01f5",
      "metadata": {
        "id": "2eec01f5",
        "outputId": "69048443-2ea0-464e-ede7-23b38b4c4915"
      },
      "outputs": [
        {
          "data": {
            "text/html": [
              "<div>\n",
              "<style scoped>\n",
              "    .dataframe tbody tr th:only-of-type {\n",
              "        vertical-align: middle;\n",
              "    }\n",
              "\n",
              "    .dataframe tbody tr th {\n",
              "        vertical-align: top;\n",
              "    }\n",
              "\n",
              "    .dataframe thead th {\n",
              "        text-align: right;\n",
              "    }\n",
              "</style>\n",
              "<table border=\"1\" class=\"dataframe\">\n",
              "  <thead>\n",
              "    <tr style=\"text-align: right;\">\n",
              "      <th></th>\n",
              "      <th>Question</th>\n",
              "      <th>Category</th>\n",
              "      <th>answer_class</th>\n",
              "      <th>text_clean</th>\n",
              "      <th>tokens</th>\n",
              "    </tr>\n",
              "  </thead>\n",
              "  <tbody>\n",
              "    <tr>\n",
              "      <th>0</th>\n",
              "      <td>Где можно узнать о документах или сертификатах...</td>\n",
              "      <td>Документы</td>\n",
              "      <td>0</td>\n",
              "      <td>узнать документ сертификат завершение обучение</td>\n",
              "      <td>[узнать, документ, сертификат, завершение, обу...</td>\n",
              "    </tr>\n",
              "    <tr>\n",
              "      <th>1</th>\n",
              "      <td>Какой документ я получу после обучения?</td>\n",
              "      <td>Документы</td>\n",
              "      <td>0</td>\n",
              "      <td>документ получить обучение</td>\n",
              "      <td>[документ, получить, обучение]</td>\n",
              "    </tr>\n",
              "    <tr>\n",
              "      <th>2</th>\n",
              "      <td>Какие аккредитации или удостоверения я могу ож...</td>\n",
              "      <td>Документы</td>\n",
              "      <td>0</td>\n",
              "      <td>аккредитация удостоверение ожидать получить за...</td>\n",
              "      <td>[аккредитация, удостоверение, ожидать, получит...</td>\n",
              "    </tr>\n",
              "    <tr>\n",
              "      <th>3</th>\n",
              "      <td>Как происходит выдача дипломов студентам?</td>\n",
              "      <td>Документы</td>\n",
              "      <td>0</td>\n",
              "      <td>происходить выдача диплом студент</td>\n",
              "      <td>[происходить, выдача, диплом, студент]</td>\n",
              "    </tr>\n",
              "    <tr>\n",
              "      <th>4</th>\n",
              "      <td>Где можно узнать о том, как получить документы...</td>\n",
              "      <td>Документы</td>\n",
              "      <td>0</td>\n",
              "      <td>узнать получить документ выпуск</td>\n",
              "      <td>[узнать, получить, документ, выпуск]</td>\n",
              "    </tr>\n",
              "  </tbody>\n",
              "</table>\n",
              "</div>"
            ],
            "text/plain": [
              "                                            Question   Category  answer_class  \\\n",
              "0  Где можно узнать о документах или сертификатах...  Документы             0   \n",
              "1            Какой документ я получу после обучения?  Документы             0   \n",
              "2  Какие аккредитации или удостоверения я могу ож...  Документы             0   \n",
              "3          Как происходит выдача дипломов студентам?  Документы             0   \n",
              "4  Где можно узнать о том, как получить документы...  Документы             0   \n",
              "\n",
              "                                          text_clean  \\\n",
              "0     узнать документ сертификат завершение обучение   \n",
              "1                         документ получить обучение   \n",
              "2  аккредитация удостоверение ожидать получить за...   \n",
              "3                  происходить выдача диплом студент   \n",
              "4                    узнать получить документ выпуск   \n",
              "\n",
              "                                              tokens  \n",
              "0  [узнать, документ, сертификат, завершение, обу...  \n",
              "1                     [документ, получить, обучение]  \n",
              "2  [аккредитация, удостоверение, ожидать, получит...  \n",
              "3             [происходить, выдача, диплом, студент]  \n",
              "4               [узнать, получить, документ, выпуск]  "
            ]
          },
          "execution_count": 208,
          "metadata": {},
          "output_type": "execute_result"
        }
      ],
      "source": [
        "train.head()"
      ]
    },
    {
      "cell_type": "markdown",
      "id": "48482bd5",
      "metadata": {
        "id": "48482bd5"
      },
      "source": [
        "Здесь происходит *обучение TF-IDF* модели на основе ранее созданных колонок, а также дальнейшее **сохранение признаков (слов)** из *обученной модели*:"
      ]
    },
    {
      "cell_type": "code",
      "execution_count": null,
      "id": "7734779d",
      "metadata": {
        "id": "7734779d",
        "outputId": "a840302c-496e-41e6-b949-4e258a008383"
      },
      "outputs": [
        {
          "data": {
            "text/plain": [
              "1027"
            ]
          },
          "execution_count": 209,
          "metadata": {},
          "output_type": "execute_result"
        }
      ],
      "source": [
        "tfidf = tfidf_fit(train=train['text_clean'], tfidf=True, max_features=1100)\n",
        "feature_names = tfidf.get_feature_names_out()\n",
        "len(feature_names)"
      ]
    },
    {
      "cell_type": "code",
      "execution_count": null,
      "id": "d47c8272",
      "metadata": {
        "id": "d47c8272",
        "outputId": "f32fc168-e238-4ccd-b8bf-2438b2087cbd"
      },
      "outputs": [
        {
          "data": {
            "text/plain": [
              "['model/tfidf.pkl']"
            ]
          },
          "execution_count": 214,
          "metadata": {},
          "output_type": "execute_result"
        }
      ],
      "source": [
        "# сохранить модель\n",
        "joblib.dump(tfidf, 'model/tfidf.pkl')\n",
        "# загрузить если нет"
      ]
    },
    {
      "cell_type": "code",
      "execution_count": null,
      "id": "38fd9ccd",
      "metadata": {
        "id": "38fd9ccd"
      },
      "outputs": [],
      "source": [
        "tfidf_embed = tfidf_embeding(model=tfidf, df=train['text_clean'])"
      ]
    },
    {
      "cell_type": "markdown",
      "source": [
        "Сохраняем *натренированную модель* в отдельный **файл**:"
      ],
      "metadata": {
        "id": "OL_nVgp5knan"
      },
      "id": "OL_nVgp5knan"
    },
    {
      "cell_type": "code",
      "execution_count": null,
      "id": "16221cb8",
      "metadata": {
        "id": "16221cb8",
        "outputId": "615e26bf-82be-4ffe-aa1e-3078830b2966"
      },
      "outputs": [
        {
          "data": {
            "text/plain": [
              "['model/train.pkl']"
            ]
          },
          "execution_count": 217,
          "metadata": {},
          "output_type": "execute_result"
        }
      ],
      "source": [
        "# сохраним классы и эмбединги вопросов в один файл\n",
        "classes = np.array(train.answer_class)\n",
        "temp = {'classes': classes, 'tfidf_embed': tfidf_embed}\n",
        "joblib.dump(temp, 'model/train.pkl')"
      ]
    },
    {
      "cell_type": "code",
      "execution_count": null,
      "id": "3dddd054",
      "metadata": {
        "id": "3dddd054"
      },
      "outputs": [],
      "source": [
        "# обновим классы в ответах\n",
        "train_answer_class.to_csv('model/answer_class.csv', sep=',', index=True)"
      ]
    },
    {
      "cell_type": "markdown",
      "id": "0866c2bc",
      "metadata": {
        "id": "0866c2bc"
      },
      "source": [
        "функция **find_similarity()** ищет наиболее схожий с переданным в неё текст:"
      ]
    },
    {
      "cell_type": "code",
      "execution_count": null,
      "id": "bf4af7ec",
      "metadata": {
        "id": "bf4af7ec"
      },
      "outputs": [],
      "source": [
        "def find_similarity(query, embeddings, train, top_k=3):\n",
        "    # самые близкие вопросы из трейна\n",
        "    # возвращает класс, схожесть\n",
        "    query_embedding = tfidf_embeding(model=tfidf, df=[full_clean(query)[0]])[0]\n",
        "    cos_similarities = cosine_similarity(query_embedding.reshape(1, -1), np.array(embeddings))\n",
        "    sorted_indices = np.argsort(cos_similarities[0])[::-1]\n",
        "    classes = np.array(train.answer_class)\n",
        "    top_class = [classes[idx] for i, idx in enumerate(sorted_indices[0:top_k])]\n",
        "\n",
        "    return top_class[0], cos_similarities[0][sorted_indices[0]]"
      ]
    },
    {
      "cell_type": "code",
      "execution_count": null,
      "id": "62cc944e",
      "metadata": {
        "id": "62cc944e"
      },
      "outputs": [],
      "source": [
        "query = \"Я хочу изменить группу, какой мой порядок действий?\"\n",
        "answer_class, similarity = find_similarity(query, tfidf_embed, train, top_k=3)"
      ]
    },
    {
      "cell_type": "code",
      "execution_count": null,
      "id": "72ff7876",
      "metadata": {
        "id": "72ff7876",
        "outputId": "5f9f2788-ecb8-4429-82e2-f4f59a6c4d31"
      },
      "outputs": [
        {
          "data": {
            "text/plain": [
              "'Мы можем перевести вас в другую группу в рамках срока обучения и дополнительных 6 месяцев сверху. Срок обучения отсчитывается с даты оплаты обучения.\\nКоличество переводов зависит от срока программы:\\n\\nЕсли ваш продукт предусматривает возможность выбора специализации:\\n12 месяцев — 1 перевод на каждый блок обучения, суммарно 3 перевода на весь срок обучения.\\n24 месяца — 1 перевод на каждый блок обучения, суммарно 4 перевода на весь срок обучения.\\n36 месяцев — 1 перевод на каждый блок обучения, суммарно 4 перевода на весь срок обучения.\\nЕсли ваш продукт не предусматривает возможность выбора специализации:\\n6 месяцев — 1 перевод на все время обучения.\\n9 месяцев — 1 перевод на все время обучения.\\n12 месяцев — 2 перевода на все время обучения.\\nУзнать о сроках обучения и специализациях можно из программы обучения на странице вашего продукта.'"
            ]
          },
          "execution_count": 221,
          "metadata": {},
          "output_type": "execute_result"
        }
      ],
      "source": [
        "answer = train_answer_class[train_answer_class.answer_class==answer_class]['Answer'].values[0]\n",
        "answer"
      ]
    },
    {
      "cell_type": "code",
      "execution_count": null,
      "id": "75e909dd",
      "metadata": {
        "id": "75e909dd",
        "outputId": "23c2b843-3240-4808-eb5f-226095899989"
      },
      "outputs": [
        {
          "data": {
            "text/plain": [
              "11"
            ]
          },
          "execution_count": 222,
          "metadata": {},
          "output_type": "execute_result"
        }
      ],
      "source": [
        "answer_class"
      ]
    },
    {
      "cell_type": "code",
      "execution_count": null,
      "id": "ae619a46",
      "metadata": {
        "id": "ae619a46",
        "outputId": "9f1924ef-db31-490e-98c0-81141fa4eafc"
      },
      "outputs": [
        {
          "data": {
            "text/plain": [
              "'Мы можем перевести вас в другую группу в рамках срока обучения и дополнительных 6 месяцев сверху. Срок обучения отсчитывается с даты оплаты обучения.\\nКоличество переводов зависит от срока программы:\\n\\nЕсли ваш продукт предусматривает возможность выбора специализации:\\n12 месяцев — 1 перевод на каждый блок обучения, суммарно 3 перевода на весь срок обучения.\\n24 месяца — 1 перевод на каждый блок обучения, суммарно 4 перевода на весь срок обучения.\\n36 месяцев — 1 перевод на каждый блок обучения, суммарно 4 перевода на весь срок обучения.\\nЕсли ваш продукт не предусматривает возможность выбора специализации:\\n6 месяцев — 1 перевод на все время обучения.\\n9 месяцев — 1 перевод на все время обучения.\\n12 месяцев — 2 перевода на все время обучения.\\nУзнать о сроках обучения и специализациях можно из программы обучения на странице вашего продукта.'"
            ]
          },
          "execution_count": 223,
          "metadata": {},
          "output_type": "execute_result"
        }
      ],
      "source": [
        "train_answer_class[train_answer_class.answer_class==11]['Answer'].values[0]"
      ]
    },
    {
      "cell_type": "code",
      "execution_count": null,
      "id": "501536df",
      "metadata": {
        "id": "501536df"
      },
      "outputs": [],
      "source": [
        "query = \"Я хочу изменить группу, какой мой порядок действий?\""
      ]
    },
    {
      "cell_type": "code",
      "execution_count": null,
      "id": "05cbed49",
      "metadata": {
        "id": "05cbed49"
      },
      "outputs": [],
      "source": [
        "def predict(query):\n",
        "    answer_class, similarity = find_similarity(query, tfidf_embed, train, top_k=3)\n",
        "    answer = train_answer_class[train_answer_class.answer_class==answer_class]['Answer'].values[0]\n",
        "\n",
        "    return answer_class, answer, round(similarity, 2)"
      ]
    },
    {
      "cell_type": "code",
      "execution_count": null,
      "id": "84edbee2",
      "metadata": {
        "id": "84edbee2"
      },
      "outputs": [],
      "source": [
        "answer_class, answer, similarity = predict(query)"
      ]
    },
    {
      "cell_type": "code",
      "execution_count": null,
      "id": "43a4ecbb",
      "metadata": {
        "id": "43a4ecbb",
        "outputId": "ea578f1d-139e-4126-dc36-3f38a7fbab99"
      },
      "outputs": [
        {
          "data": {
            "text/plain": [
              "0.55"
            ]
          },
          "execution_count": 229,
          "metadata": {},
          "output_type": "execute_result"
        }
      ],
      "source": [
        "similarity"
      ]
    }
  ],
  "metadata": {
    "kernelspec": {
      "display_name": "Python 3 (ipykernel)",
      "language": "python",
      "name": "python3"
    },
    "language_info": {
      "codemirror_mode": {
        "name": "ipython",
        "version": 3
      },
      "file_extension": ".py",
      "mimetype": "text/x-python",
      "name": "python",
      "nbconvert_exporter": "python",
      "pygments_lexer": "ipython3",
      "version": "3.9.12"
    },
    "colab": {
      "provenance": []
    }
  },
  "nbformat": 4,
  "nbformat_minor": 5
}