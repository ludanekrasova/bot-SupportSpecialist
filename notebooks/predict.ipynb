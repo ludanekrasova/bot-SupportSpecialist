{
  "cells": [
    {
      "cell_type": "code",
      "execution_count": null,
      "id": "fee6d241",
      "metadata": {
        "id": "fee6d241"
      },
      "outputs": [],
      "source": [
        "import pandas as pd\n",
        "import numpy as np"
      ]
    },
    {
      "cell_type": "code",
      "execution_count": null,
      "id": "5c35d040",
      "metadata": {
        "id": "5c35d040"
      },
      "outputs": [],
      "source": [
        "import pandas as pd\n",
        "import numpy as np\n",
        "from sklearn.metrics.pairwise import cosine_similarity\n",
        "import joblib\n",
        "import re\n",
        "import os\n",
        "\n",
        "import spacy\n",
        "\n",
        "from sklearn.metrics import classification_report, f1_score, ConfusionMatrixDisplay\n",
        "import matplotlib.pyplot as plt\n",
        "%matplotlib inline"
      ]
    },
    {
      "cell_type": "code",
      "execution_count": null,
      "id": "62141895",
      "metadata": {
        "id": "62141895"
      },
      "outputs": [],
      "source": [
        "from tqdm.notebook import tqdm\n",
        "tqdm.pandas()"
      ]
    },
    {
      "cell_type": "markdown",
      "source": [
        "В этом блоке кода происходит подготовка *инструментов* для *обработки текста* (загрузка леммизатора, стоп-слов, классов ответов)"
      ],
      "metadata": {
        "id": "Fe59U2TBOkeV"
      },
      "id": "Fe59U2TBOkeV"
    },
    {
      "cell_type": "code",
      "execution_count": null,
      "id": "542c6494",
      "metadata": {
        "id": "542c6494"
      },
      "outputs": [],
      "source": [
        "#===============================================================================\n",
        "# Загрузка моделей\n",
        "#===============================================================================\n",
        "lemmatizer = spacy.load('ru_core_news_md', disable = ['parser', 'ner'])\n",
        "\n",
        "with open(\"model/stopwords.txt\") as f: stopwords_nltk = f.read().splitlines()\n",
        "\n",
        "tfidf = joblib.load('model/tfidf.pkl')\n",
        "\n",
        "#===============================================================================\n",
        "# Загрузка данных\n",
        "#===============================================================================\n",
        "\n",
        "# классы с ответами\n",
        "train_answer_class = pd.read_csv('model/answer_class.csv', sep=',', index_col=None)\n",
        "\n",
        "# классы с эмбедингами вопросов\n",
        "train = joblib.load('model/train.pkl')\n",
        "\n",
        "# извлечение эмбедингов и классов\n",
        "tfidf_embed = train['tfidf_embed']\n",
        "classes = train['classes']\n",
        "\n",
        "# словарь перевода классов в группы\n",
        "label_dist = {0: 'Документы',\n",
        "             1: 'Документы',\n",
        "             2: 'Документы',\n",
        "             3: 'Документы',\n",
        "             4: 'Документы',\n",
        "             5: 'Организация уроков',\n",
        "             6: 'Организация уроков',\n",
        "             7: 'Организация уроков',\n",
        "             8: 'Организация уроков',\n",
        "             9: 'Организация уроков',\n",
        "             10: 'Оценки',\n",
        "             11: 'Перевод/ запись в группу',\n",
        "             12: 'Практические работы',\n",
        "             13: 'Программа обучения',\n",
        "             14: 'Портал',\n",
        "             15: 'Портал',\n",
        "             16: 'Портал',\n",
        "             17: 'Портал',\n",
        "             18: 'Портал',\n",
        "             19: 'Программа обучения',\n",
        "             20: 'Программа обучения',\n",
        "             21: 'Расписание',\n",
        "             22: 'Расписание',\n",
        "             23: 'Требования ПО',\n",
        "             24: 'Требования ПО',\n",
        "             25: 'Трудоустройство',\n",
        "             26: 'Трудоустройство',\n",
        "             27: 'Трудоустройство',\n",
        "             28: 'Документы',\n",
        "             29: 'Документы',\n",
        "             30: 'Переключить на оператора',\n",
        "             }\n",
        "# предел схожести, при котором отдаем ответ\n",
        "lim_similarities = 0.4"
      ]
    },
    {
      "cell_type": "markdown",
      "source": [
        "В этом блоке кода мы преобразуем **исходный текст** в **удобный для языковой модели** текст:"
      ],
      "metadata": {
        "id": "_hENTqAiSVPl"
      },
      "id": "_hENTqAiSVPl"
    },
    {
      "cell_type": "code",
      "execution_count": null,
      "id": "a7f121a8",
      "metadata": {
        "id": "a7f121a8"
      },
      "outputs": [],
      "source": [
        "#===============================================================================\n",
        "# Работа с текстом\n",
        "#===============================================================================\n",
        "\n",
        "# очистка текста\n",
        "def full_clean(text):\n",
        "    '''подготовка текста к подаче в модель для каждого текста (через applay)'''\n",
        "    text=re.sub(r\"[^a-zA-Zа-яА-ЯёЁ0-9#]\", \" \", text)\n",
        "    text = text.lower()\n",
        "    text = re.sub(\" +\", \" \", text) # оставляем только 1 пробел\n",
        "    text = text.strip()\n",
        "    # токены для моделей\n",
        "    tokens = [token.lemma_ for token in lemmatizer(text) if token.lemma_ not in stopwords_nltk]\n",
        "    # для tfidf на вход текст\n",
        "    text = \" \".join(tokens)\n",
        "    return text, tokens\n",
        "\n",
        "\n",
        "def tfidf_embeding(model=None, df=None):\n",
        "    '''Преобразование текста в мешок слов'''\n",
        "    if model==None:\n",
        "        #загрузить если нет\n",
        "        model = joblib.load('tfidf.pkl')\n",
        "    else:\n",
        "        model=model\n",
        "    X = model.transform(df)\n",
        "\n",
        "    return X.toarray()"
      ]
    },
    {
      "cell_type": "markdown",
      "source": [
        "Далее, уже преобразованный текст подвергается **числовой векторизации**, благодаря которой возможно дальнейшее предсказание *класса ответа*"
      ],
      "metadata": {
        "id": "jNiJnWclS-g8"
      },
      "id": "jNiJnWclS-g8"
    },
    {
      "cell_type": "code",
      "execution_count": null,
      "id": "133ef8b6",
      "metadata": {
        "id": "133ef8b6"
      },
      "outputs": [],
      "source": [
        "#===============================================================================\n",
        "# Поиск схожих векторов и предсказание класса ответа\n",
        "#===============================================================================\n",
        "\n",
        "def find_similarity(query, embeddings, classes, top_k=2):\n",
        "    # самые близкие вопросы из трейна\n",
        "    # возвращает класс, категорию, схожесть\n",
        "    query_embedding = tfidf_embeding(model=tfidf, df=[full_clean(query)[0]])[0]\n",
        "    cos_similarities = cosine_similarity(query_embedding.reshape(1, -1), np.array(embeddings))\n",
        "    sorted_indices = np.argsort(cos_similarities[0])[::-1]\n",
        "    top_class = [classes[idx] for i, idx in enumerate(sorted_indices[0:top_k])]\n",
        "\n",
        "    # для предикта класса 30 не существует\n",
        "    if top_class[0] == 30:\n",
        "        top_class[0] = top_class[1]\n",
        "\n",
        "    return top_class[0], label_dist[top_class[0]], cos_similarities[0][sorted_indices[0]]\n",
        "\n",
        "def predict(query):\n",
        "    # главная функция\n",
        "    answer_class, category, similarity = find_similarity(query, tfidf_embed, classes, top_k=2)\n",
        "    answer = train_answer_class[train_answer_class.answer_class==answer_class]['Answer'].values[0]\n",
        "\n",
        "    return answer_class, category, answer, round(similarity, 2)"
      ]
    },
    {
      "cell_type": "code",
      "execution_count": null,
      "id": "c299dc3e",
      "metadata": {
        "id": "c299dc3e",
        "outputId": "66faa55b-8d8f-4b7b-e175-59808d067eef"
      },
      "outputs": [
        {
          "data": {
            "text/html": [
              "<div>\n",
              "<style scoped>\n",
              "    .dataframe tbody tr th:only-of-type {\n",
              "        vertical-align: middle;\n",
              "    }\n",
              "\n",
              "    .dataframe tbody tr th {\n",
              "        vertical-align: top;\n",
              "    }\n",
              "\n",
              "    .dataframe thead th {\n",
              "        text-align: right;\n",
              "    }\n",
              "</style>\n",
              "<table border=\"1\" class=\"dataframe\">\n",
              "  <thead>\n",
              "    <tr style=\"text-align: right;\">\n",
              "      <th></th>\n",
              "      <th>hash</th>\n",
              "      <th>answer_class</th>\n",
              "    </tr>\n",
              "  </thead>\n",
              "  <tbody>\n",
              "    <tr>\n",
              "      <th>0</th>\n",
              "      <td>-5619544560237527616</td>\n",
              "      <td>0</td>\n",
              "    </tr>\n",
              "    <tr>\n",
              "      <th>1</th>\n",
              "      <td>-3561821032679218920</td>\n",
              "      <td>0</td>\n",
              "    </tr>\n",
              "    <tr>\n",
              "      <th>2</th>\n",
              "      <td>5542832344828775180</td>\n",
              "      <td>0</td>\n",
              "    </tr>\n",
              "    <tr>\n",
              "      <th>3</th>\n",
              "      <td>374064106604922467</td>\n",
              "      <td>0</td>\n",
              "    </tr>\n",
              "    <tr>\n",
              "      <th>4</th>\n",
              "      <td>7767274468230729980</td>\n",
              "      <td>0</td>\n",
              "    </tr>\n",
              "  </tbody>\n",
              "</table>\n",
              "</div>"
            ],
            "text/plain": [
              "                  hash  answer_class\n",
              "0 -5619544560237527616             0\n",
              "1 -3561821032679218920             0\n",
              "2  5542832344828775180             0\n",
              "3   374064106604922467             0\n",
              "4  7767274468230729980             0"
            ]
          },
          "execution_count": 126,
          "metadata": {},
          "output_type": "execute_result"
        }
      ],
      "source": [
        "# две колонки, без индекса, разделитель запятая\n",
        "submission = pd.read_csv('train_SecondPilot/sample_submission.csv', sep=',', index_col=None)\n",
        "submission.head()"
      ]
    },
    {
      "cell_type": "code",
      "execution_count": null,
      "id": "cfd2db5c",
      "metadata": {
        "id": "cfd2db5c",
        "outputId": "3396d41e-6661-432f-bcee-1ba01489877e"
      },
      "outputs": [
        {
          "data": {
            "text/html": [
              "<div>\n",
              "<style scoped>\n",
              "    .dataframe tbody tr th:only-of-type {\n",
              "        vertical-align: middle;\n",
              "    }\n",
              "\n",
              "    .dataframe tbody tr th {\n",
              "        vertical-align: top;\n",
              "    }\n",
              "\n",
              "    .dataframe thead th {\n",
              "        text-align: right;\n",
              "    }\n",
              "</style>\n",
              "<table border=\"1\" class=\"dataframe\">\n",
              "  <thead>\n",
              "    <tr style=\"text-align: right;\">\n",
              "      <th></th>\n",
              "      <th>hash</th>\n",
              "      <th>Question</th>\n",
              "    </tr>\n",
              "  </thead>\n",
              "  <tbody>\n",
              "    <tr>\n",
              "      <th>0</th>\n",
              "      <td>-5,61954456023753E+018</td>\n",
              "      <td>На какие специальности можно поступить у вас?</td>\n",
              "    </tr>\n",
              "    <tr>\n",
              "      <th>1</th>\n",
              "      <td>-3,56182103267922E+018</td>\n",
              "      <td>Где посмотреть всю информацию по моему курсу?</td>\n",
              "    </tr>\n",
              "    <tr>\n",
              "      <th>2</th>\n",
              "      <td>5,54283234482878E+018</td>\n",
              "      <td>Расскажите про налоговые вычеты.</td>\n",
              "    </tr>\n",
              "    <tr>\n",
              "      <th>3</th>\n",
              "      <td>3,74064106604922E+017</td>\n",
              "      <td>Какие документы нужны для поступления?</td>\n",
              "    </tr>\n",
              "    <tr>\n",
              "      <th>4</th>\n",
              "      <td>7,76727446823073E+018</td>\n",
              "      <td>Получу ли я бумажный сертификат после прохожде...</td>\n",
              "    </tr>\n",
              "  </tbody>\n",
              "</table>\n",
              "</div>"
            ],
            "text/plain": [
              "                     hash                                           Question\n",
              "0  -5,61954456023753E+018      На какие специальности можно поступить у вас?\n",
              "1  -3,56182103267922E+018      Где посмотреть всю информацию по моему курсу?\n",
              "2   5,54283234482878E+018                   Расскажите про налоговые вычеты.\n",
              "3   3,74064106604922E+017             Какие документы нужны для поступления?\n",
              "4   7,76727446823073E+018  Получу ли я бумажный сертификат после прохожде..."
            ]
          },
          "execution_count": 127,
          "metadata": {},
          "output_type": "execute_result"
        }
      ],
      "source": [
        "test = pd.read_csv('data/my_test.csv', sep=',', index_col=None)\n",
        "test.head()"
      ]
    },
    {
      "cell_type": "markdown",
      "source": [
        "Здесь мы **сохраняем** список вопросов из расположенной выше таблицы *(представлен лишь её фрагмент)*"
      ],
      "metadata": {
        "id": "iYo9sQ_kT0Vd"
      },
      "id": "iYo9sQ_kT0Vd"
    },
    {
      "cell_type": "code",
      "execution_count": null,
      "id": "76906fa7",
      "metadata": {
        "id": "76906fa7"
      },
      "outputs": [],
      "source": [
        "texts = test['Question'].tolist()"
      ]
    },
    {
      "cell_type": "markdown",
      "source": [
        "Составляем *классы вопросов* на основе **натренированной модели**:"
      ],
      "metadata": {
        "id": "EvLIQ2e6UG6t"
      },
      "id": "EvLIQ2e6UG6t"
    },
    {
      "cell_type": "code",
      "execution_count": null,
      "id": "799eab24",
      "metadata": {
        "id": "799eab24"
      },
      "outputs": [],
      "source": [
        "def predict_tfidf(texts):\n",
        "    predicts = []\n",
        "    for text in tqdm(texts):\n",
        "        answer_class, category, answer, similarity = predict(text)\n",
        "        predicts.append(answer_class)\n",
        "    return predicts"
      ]
    },
    {
      "cell_type": "code",
      "execution_count": null,
      "id": "bd67b067",
      "metadata": {
        "colab": {
          "referenced_widgets": [
            "8bb662e41f1d477ab0e00c4873cb9ab7"
          ]
        },
        "id": "bd67b067",
        "outputId": "4f78d11f-1210-4409-ef4c-a0b532a4b39a"
      },
      "outputs": [
        {
          "data": {
            "application/vnd.jupyter.widget-view+json": {
              "model_id": "8bb662e41f1d477ab0e00c4873cb9ab7",
              "version_major": 2,
              "version_minor": 0
            },
            "text/plain": [
              "  0%|          | 0/10 [00:00<?, ?it/s]"
            ]
          },
          "metadata": {},
          "output_type": "display_data"
        }
      ],
      "source": [
        "predicts = predict_tfidf(texts)\n",
        "test['answer_class'] = predicts"
      ]
    },
    {
      "cell_type": "markdown",
      "source": [
        "**Сохраняем** полученные результаты в файл:"
      ],
      "metadata": {
        "id": "3sNCHz16Uiu1"
      },
      "id": "3sNCHz16Uiu1"
    },
    {
      "cell_type": "code",
      "execution_count": null,
      "id": "4a7cfae9",
      "metadata": {
        "id": "4a7cfae9"
      },
      "outputs": [],
      "source": [
        "#сохраним сабмит\n",
        "test[['hash', 'answer_class']].to_csv('submission/submission1.csv', sep=',', index=False)"
      ]
    },
    {
      "cell_type": "markdown",
      "id": "8680e854",
      "metadata": {
        "id": "8680e854"
      },
      "source": [
        "Получаем **классы** с помощью *предсказательной модели* в **отложенной выборке**:"
      ]
    },
    {
      "cell_type": "code",
      "execution_count": null,
      "id": "143396e8",
      "metadata": {
        "id": "143396e8",
        "outputId": "8335e19a-02a4-4ddb-ab66-df27d24c7623"
      },
      "outputs": [
        {
          "data": {
            "text/html": [
              "<div>\n",
              "<style scoped>\n",
              "    .dataframe tbody tr th:only-of-type {\n",
              "        vertical-align: middle;\n",
              "    }\n",
              "\n",
              "    .dataframe tbody tr th {\n",
              "        vertical-align: top;\n",
              "    }\n",
              "\n",
              "    .dataframe thead th {\n",
              "        text-align: right;\n",
              "    }\n",
              "</style>\n",
              "<table border=\"1\" class=\"dataframe\">\n",
              "  <thead>\n",
              "    <tr style=\"text-align: right;\">\n",
              "      <th></th>\n",
              "      <th>Question</th>\n",
              "      <th>Category</th>\n",
              "      <th>answer_class</th>\n",
              "    </tr>\n",
              "  </thead>\n",
              "  <tbody>\n",
              "    <tr>\n",
              "      <th>0</th>\n",
              "      <td>Получу ли я диплом государственного образца по...</td>\n",
              "      <td>Документы</td>\n",
              "      <td>0</td>\n",
              "    </tr>\n",
              "    <tr>\n",
              "      <th>1</th>\n",
              "      <td>Что я получу если сдам все экзамены?</td>\n",
              "      <td>Документы</td>\n",
              "      <td>0</td>\n",
              "    </tr>\n",
              "    <tr>\n",
              "      <th>2</th>\n",
              "      <td>Если я не сдам один экзамен, могу ли я получит...</td>\n",
              "      <td>Документы</td>\n",
              "      <td>1</td>\n",
              "    </tr>\n",
              "    <tr>\n",
              "      <th>3</th>\n",
              "      <td>Как оцениваются компетенции?</td>\n",
              "      <td>Документы</td>\n",
              "      <td>1</td>\n",
              "    </tr>\n",
              "    <tr>\n",
              "      <th>4</th>\n",
              "      <td>Если я еще учусь в университете, могу я получи...</td>\n",
              "      <td>Документы</td>\n",
              "      <td>2</td>\n",
              "    </tr>\n",
              "  </tbody>\n",
              "</table>\n",
              "</div>"
            ],
            "text/plain": [
              "                                            Question   Category  answer_class\n",
              "0  Получу ли я диплом государственного образца по...  Документы             0\n",
              "1               Что я получу если сдам все экзамены?  Документы             0\n",
              "2  Если я не сдам один экзамен, могу ли я получит...  Документы             1\n",
              "3                       Как оцениваются компетенции?  Документы             1\n",
              "4  Если я еще учусь в университете, могу я получи...  Документы             2"
            ]
          },
          "execution_count": 132,
          "metadata": {},
          "output_type": "execute_result"
        }
      ],
      "source": [
        "hold = pd.read_csv('data/hold_data.csv', sep=',', index_col=None)\n",
        "hold.head()"
      ]
    },
    {
      "cell_type": "code",
      "execution_count": null,
      "id": "4b9439c5",
      "metadata": {
        "id": "4b9439c5"
      },
      "outputs": [],
      "source": [
        "texts = hold['Question'].tolist()"
      ]
    },
    {
      "cell_type": "code",
      "execution_count": null,
      "id": "efa440ef",
      "metadata": {
        "colab": {
          "referenced_widgets": [
            "d511fef056a44fb99efdaae083b0df56"
          ]
        },
        "id": "efa440ef",
        "outputId": "618c3ff7-6d57-48f4-f582-0e6007093827"
      },
      "outputs": [
        {
          "data": {
            "application/vnd.jupyter.widget-view+json": {
              "model_id": "d511fef056a44fb99efdaae083b0df56",
              "version_major": 2,
              "version_minor": 0
            },
            "text/plain": [
              "  0%|          | 0/60 [00:00<?, ?it/s]"
            ]
          },
          "metadata": {},
          "output_type": "display_data"
        }
      ],
      "source": [
        "predicts = predict_tfidf(texts)"
      ]
    },
    {
      "cell_type": "markdown",
      "source": [
        "Оцениваем *производительность* предсказательной модели классификации:"
      ],
      "metadata": {
        "id": "9qsc8S5LWa7-"
      },
      "id": "9qsc8S5LWa7-"
    },
    {
      "cell_type": "code",
      "execution_count": null,
      "id": "cf3ee8ab",
      "metadata": {
        "id": "cf3ee8ab"
      },
      "outputs": [],
      "source": [
        "test_labels = hold['answer_class'].tolist()"
      ]
    },
    {
      "cell_type": "code",
      "execution_count": null,
      "id": "c494416e",
      "metadata": {
        "id": "c494416e",
        "outputId": "3b66e33f-e0aa-4fc3-e6b5-2c92d39f102c"
      },
      "outputs": [
        {
          "name": "stdout",
          "output_type": "stream",
          "text": [
            "              precision    recall  f1-score   support\n",
            "\n",
            "           0       0.00      0.00      0.00         2\n",
            "           1       0.50      0.50      0.50         2\n",
            "           2       0.50      0.50      0.50         2\n",
            "           3       0.50      0.50      0.50         2\n",
            "           4       1.00      0.50      0.67         2\n",
            "           5       0.00      0.00      0.00         2\n",
            "           6       0.50      1.00      0.67         2\n",
            "           7       0.50      0.50      0.50         2\n",
            "           8       0.50      0.50      0.50         2\n",
            "           9       1.00      1.00      1.00         2\n",
            "          10       0.50      1.00      0.67         2\n",
            "          11       1.00      1.00      1.00         2\n",
            "          12       1.00      0.50      0.67         2\n",
            "          13       0.33      0.50      0.40         2\n",
            "          14       0.33      0.50      0.40         2\n",
            "          15       1.00      1.00      1.00         2\n",
            "          16       0.67      1.00      0.80         2\n",
            "          17       1.00      1.00      1.00         2\n",
            "          18       0.50      1.00      0.67         2\n",
            "          19       0.00      0.00      0.00         2\n",
            "          20       1.00      1.00      1.00         2\n",
            "          21       1.00      0.50      0.67         2\n",
            "          22       0.00      0.00      0.00         2\n",
            "          23       0.50      1.00      0.67         2\n",
            "          24       1.00      0.50      0.67         2\n",
            "          25       0.00      0.00      0.00         2\n",
            "          26       0.00      0.00      0.00         2\n",
            "          27       0.33      0.50      0.40         2\n",
            "          28       0.00      0.00      0.00         2\n",
            "          29       0.33      0.50      0.40         2\n",
            "\n",
            "    accuracy                           0.55        60\n",
            "   macro avg       0.52      0.55      0.51        60\n",
            "weighted avg       0.52      0.55      0.51        60\n",
            "\n",
            "0.55\n"
          ]
        },
        {
          "name": "stderr",
          "output_type": "stream",
          "text": [
            "/home/tanya/anaconda3/lib/python3.9/site-packages/sklearn/metrics/_classification.py:1471: UndefinedMetricWarning: Precision and F-score are ill-defined and being set to 0.0 in labels with no predicted samples. Use `zero_division` parameter to control this behavior.\n",
            "  _warn_prf(average, modifier, msg_start, len(result))\n",
            "/home/tanya/anaconda3/lib/python3.9/site-packages/sklearn/metrics/_classification.py:1471: UndefinedMetricWarning: Precision and F-score are ill-defined and being set to 0.0 in labels with no predicted samples. Use `zero_division` parameter to control this behavior.\n",
            "  _warn_prf(average, modifier, msg_start, len(result))\n",
            "/home/tanya/anaconda3/lib/python3.9/site-packages/sklearn/metrics/_classification.py:1471: UndefinedMetricWarning: Precision and F-score are ill-defined and being set to 0.0 in labels with no predicted samples. Use `zero_division` parameter to control this behavior.\n",
            "  _warn_prf(average, modifier, msg_start, len(result))\n"
          ]
        }
      ],
      "source": [
        "print(classification_report(test_labels, predicts))\n",
        "print(f1_score(test_labels, predicts, average='micro'))"
      ]
    },
    {
      "cell_type": "code",
      "execution_count": null,
      "id": "75c94a38",
      "metadata": {
        "id": "75c94a38",
        "outputId": "5a308264-241b-401c-c408-60bf6fdcb651"
      },
      "outputs": [
        {
          "data": {
            "text/plain": [
              "Text(0.5, 0.98, 'Plot of confusion matrix')"
            ]
          },
          "execution_count": 137,
          "metadata": {},
          "output_type": "execute_result"
        },
        {
          "data": {
            "image/png": "[encoded data removed]",
            "text/plain": [
              "<Figure size 720x720 with 2 Axes>"
            ]
          },
          "metadata": {
            "needs_background": "light"
          },
          "output_type": "display_data"
        }
      ],
      "source": [
        "cmp = ConfusionMatrixDisplay.from_predictions(test_labels, predicts, xticks_rotation = 'vertical', cmap=plt.cm.Blues)\n",
        "fig = cmp.figure_\n",
        "fig.set_figwidth(10)\n",
        "fig.set_figheight(10)\n",
        "fig.suptitle('Plot of confusion matrix')"
      ]
    },
    {
      "cell_type": "markdown",
      "source": [
        "**Предсказание бертом**"
      ],
      "metadata": {
        "id": "O8Hz35qJW4eG"
      },
      "id": "O8Hz35qJW4eG"
    },
    {
      "cell_type": "code",
      "execution_count": null,
      "id": "4f252a69",
      "metadata": {
        "id": "4f252a69",
        "outputId": "2c4db10d-8e07-4b0d-f5c2-8c3af7f45ff9"
      },
      "outputs": [
        {
          "name": "stderr",
          "output_type": "stream",
          "text": [
            "2024-04-27 21:08:08.601246: I tensorflow/core/platform/cpu_feature_guard.cc:182] This TensorFlow binary is optimized to use available CPU instructions in performance-critical operations.\n",
            "To enable the following instructions: AVX2 FMA, in other operations, rebuild TensorFlow with the appropriate compiler flags.\n",
            "2024-04-27 21:08:09.264565: W tensorflow/compiler/tf2tensorrt/utils/py_utils.cc:38] TF-TRT Warning: Could not find TensorRT\n"
          ]
        }
      ],
      "source": [
        "from datasets import Dataset\n",
        "import datasets\n",
        "import torch\n",
        "from transformers import BertTokenizer, BertForSequenceClassification, Trainer"
      ]
    },
    {
      "cell_type": "code",
      "execution_count": null,
      "id": "c7fb093b",
      "metadata": {
        "id": "c7fb093b"
      },
      "outputs": [],
      "source": [
        "model_name = 'bert-base-multilingual-uncased'\n",
        "\n",
        "tokenizer = BertTokenizer.from_pretrained(model_name)"
      ]
    },
    {
      "cell_type": "code",
      "execution_count": null,
      "id": "d4bb7949",
      "metadata": {
        "id": "d4bb7949"
      },
      "outputs": [],
      "source": [
        "max_length = 24"
      ]
    },
    {
      "cell_type": "code",
      "execution_count": null,
      "id": "0e36d824",
      "metadata": {
        "id": "0e36d824"
      },
      "outputs": [],
      "source": [
        "# для теста и отложенного датасета\n",
        "def preprocess_test(examples):\n",
        "    # Берём пакеты text-ов\n",
        "    text = examples['Question']\n",
        "    # кодируем их\n",
        "    encoding = tokenizer(text, padding=\"max_length\", truncation=True, max_length=max_length)\n",
        "\n",
        "    return encoding\n",
        "\n",
        "def encoding_test(df_test):\n",
        "    # подготовка датасета для модели\n",
        "    test_dataset = Dataset.from_pandas(df_test)\n",
        "    dataset = datasets.DatasetDict({\"test\":test_dataset})\n",
        "\n",
        "    encoded_dataset = dataset.map(preprocess_test, batched=True, remove_columns=dataset['test'].column_names)\n",
        "    encoded_dataset.set_format(\"torch\")\n",
        "\n",
        "    return encoded_dataset"
      ]
    },
    {
      "cell_type": "markdown",
      "id": "7e53a7dc",
      "metadata": {
        "id": "7e53a7dc"
      },
      "source": [
        "Загрузка **сохраненной модели** для проверки:"
      ]
    },
    {
      "cell_type": "code",
      "execution_count": null,
      "id": "477f4685",
      "metadata": {
        "id": "477f4685"
      },
      "outputs": [],
      "source": [
        "save_directory = 'model/checkpoint-bert'\n",
        "best_model = BertForSequenceClassification.from_pretrained(save_directory, local_files_only=True)"
      ]
    },
    {
      "cell_type": "code",
      "execution_count": null,
      "id": "be841876",
      "metadata": {
        "id": "be841876"
      },
      "outputs": [],
      "source": [
        "trainer1 = Trainer(best_model)"
      ]
    },
    {
      "cell_type": "code",
      "execution_count": null,
      "id": "5939b24b",
      "metadata": {
        "id": "5939b24b"
      },
      "outputs": [],
      "source": [
        "def get_prediction(dataset):\n",
        "    # предсказание для проверки загрузки сохраненной модели\n",
        "    pred = trainer1.predict(dataset)\n",
        "    labels = np.argmax(pred.predictions, axis = -1)\n",
        "    return labels"
      ]
    },
    {
      "cell_type": "code",
      "execution_count": null,
      "id": "18c02814",
      "metadata": {
        "colab": {
          "referenced_widgets": [
            "3358e08438e24384b4b19df0cb256ebc"
          ]
        },
        "id": "18c02814",
        "outputId": "3839f652-1b11-4921-bb73-42f80348d6e7"
      },
      "outputs": [
        {
          "data": {
            "application/vnd.jupyter.widget-view+json": {
              "model_id": "3358e08438e24384b4b19df0cb256ebc",
              "version_major": 2,
              "version_minor": 0
            },
            "text/plain": [
              "  0%|          | 0/1 [00:00<?, ?ba/s]"
            ]
          },
          "metadata": {},
          "output_type": "display_data"
        }
      ],
      "source": [
        "test_dataset = encoding_test(test[['Question']])"
      ]
    },
    {
      "cell_type": "markdown",
      "source": [
        "*Предсказываем класс* на основе \"закодированных\" ранее вопросов:"
      ],
      "metadata": {
        "id": "MynvjUHpYnze"
      },
      "id": "MynvjUHpYnze"
    },
    {
      "cell_type": "code",
      "execution_count": null,
      "id": "0a221ff2",
      "metadata": {
        "id": "0a221ff2"
      },
      "outputs": [],
      "source": [
        "# предсказание\n",
        "pred = get_prediction(test_dataset['test'])\n",
        "test['answer_class']=pred"
      ]
    },
    {
      "cell_type": "code",
      "execution_count": null,
      "id": "35310f36",
      "metadata": {
        "id": "35310f36"
      },
      "outputs": [],
      "source": [
        "test[['hash', 'answer_class']].to_csv('submission/submission2.csv', sep=',', index=False)"
      ]
    },
    {
      "cell_type": "markdown",
      "source": [
        "Проверяем **итоговый результат** работы предсказательной модели:"
      ],
      "metadata": {
        "id": "wZ-0TSqpY-V9"
      },
      "id": "wZ-0TSqpY-V9"
    },
    {
      "cell_type": "code",
      "execution_count": null,
      "id": "38df516c",
      "metadata": {
        "id": "38df516c",
        "outputId": "9fbbae26-8b37-4790-94f7-ab67ef1b2c73"
      },
      "outputs": [
        {
          "data": {
            "text/html": [
              "<div>\n",
              "<style scoped>\n",
              "    .dataframe tbody tr th:only-of-type {\n",
              "        vertical-align: middle;\n",
              "    }\n",
              "\n",
              "    .dataframe tbody tr th {\n",
              "        vertical-align: top;\n",
              "    }\n",
              "\n",
              "    .dataframe thead th {\n",
              "        text-align: right;\n",
              "    }\n",
              "</style>\n",
              "<table border=\"1\" class=\"dataframe\">\n",
              "  <thead>\n",
              "    <tr style=\"text-align: right;\">\n",
              "      <th></th>\n",
              "      <th>hash</th>\n",
              "      <th>Question</th>\n",
              "      <th>answer_class</th>\n",
              "    </tr>\n",
              "  </thead>\n",
              "  <tbody>\n",
              "    <tr>\n",
              "      <th>0</th>\n",
              "      <td>-5,61954456023753E+018</td>\n",
              "      <td>На какие специальности можно поступить у вас?</td>\n",
              "      <td>19</td>\n",
              "    </tr>\n",
              "    <tr>\n",
              "      <th>1</th>\n",
              "      <td>-3,56182103267922E+018</td>\n",
              "      <td>Где посмотреть всю информацию по моему курсу?</td>\n",
              "      <td>18</td>\n",
              "    </tr>\n",
              "    <tr>\n",
              "      <th>2</th>\n",
              "      <td>5,54283234482878E+018</td>\n",
              "      <td>Расскажите про налоговые вычеты.</td>\n",
              "      <td>28</td>\n",
              "    </tr>\n",
              "    <tr>\n",
              "      <th>3</th>\n",
              "      <td>3,74064106604922E+017</td>\n",
              "      <td>Какие документы нужны для поступления?</td>\n",
              "      <td>2</td>\n",
              "    </tr>\n",
              "    <tr>\n",
              "      <th>4</th>\n",
              "      <td>7,76727446823073E+018</td>\n",
              "      <td>Получу ли я бумажный сертификат после прохожде...</td>\n",
              "      <td>4</td>\n",
              "    </tr>\n",
              "    <tr>\n",
              "      <th>5</th>\n",
              "      <td>1,7662125181686E+018</td>\n",
              "      <td>Кто куратор моего курса?</td>\n",
              "      <td>14</td>\n",
              "    </tr>\n",
              "    <tr>\n",
              "      <th>6</th>\n",
              "      <td>-6,58868589443032E+018</td>\n",
              "      <td>Гарантировано ли трудоустройство после ваших к...</td>\n",
              "      <td>27</td>\n",
              "    </tr>\n",
              "    <tr>\n",
              "      <th>7</th>\n",
              "      <td>-7,16979383993187E+018</td>\n",
              "      <td>Бесплатно ли высылаются документы о прохождени...</td>\n",
              "      <td>3</td>\n",
              "    </tr>\n",
              "    <tr>\n",
              "      <th>8</th>\n",
              "      <td>5,00750939243659E+018</td>\n",
              "      <td>По какому адресу можно узнать подробности моег...</td>\n",
              "      <td>14</td>\n",
              "    </tr>\n",
              "    <tr>\n",
              "      <th>9</th>\n",
              "      <td>1,68021103355415E+018</td>\n",
              "      <td>Когда начнутся занятия?</td>\n",
              "      <td>5</td>\n",
              "    </tr>\n",
              "  </tbody>\n",
              "</table>\n",
              "</div>"
            ],
            "text/plain": [
              "                     hash                                           Question  \\\n",
              "0  -5,61954456023753E+018      На какие специальности можно поступить у вас?   \n",
              "1  -3,56182103267922E+018      Где посмотреть всю информацию по моему курсу?   \n",
              "2   5,54283234482878E+018                   Расскажите про налоговые вычеты.   \n",
              "3   3,74064106604922E+017             Какие документы нужны для поступления?   \n",
              "4   7,76727446823073E+018  Получу ли я бумажный сертификат после прохожде...   \n",
              "5    1,7662125181686E+018                           Кто куратор моего курса?   \n",
              "6  -6,58868589443032E+018  Гарантировано ли трудоустройство после ваших к...   \n",
              "7  -7,16979383993187E+018  Бесплатно ли высылаются документы о прохождени...   \n",
              "8   5,00750939243659E+018  По какому адресу можно узнать подробности моег...   \n",
              "9   1,68021103355415E+018                            Когда начнутся занятия?   \n",
              "\n",
              "   answer_class  \n",
              "0            19  \n",
              "1            18  \n",
              "2            28  \n",
              "3             2  \n",
              "4             4  \n",
              "5            14  \n",
              "6            27  \n",
              "7             3  \n",
              "8            14  \n",
              "9             5  "
            ]
          },
          "execution_count": 122,
          "metadata": {},
          "output_type": "execute_result"
        }
      ],
      "source": [
        "test"
      ]
    }
  ],
  "metadata": {
    "kernelspec": {
      "display_name": "Python 3 (ipykernel)",
      "language": "python",
      "name": "python3"
    },
    "language_info": {
      "codemirror_mode": {
        "name": "ipython",
        "version": 3
      },
      "file_extension": ".py",
      "mimetype": "text/x-python",
      "name": "python",
      "nbconvert_exporter": "python",
      "pygments_lexer": "ipython3",
      "version": "3.9.12"
    },
    "colab": {
      "provenance": []
    }
  },
  "nbformat": 4,
  "nbformat_minor": 5
}