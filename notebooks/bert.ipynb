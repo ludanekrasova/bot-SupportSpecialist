{
  "cells": [
    {
      "cell_type": "code",
      "execution_count": null,
      "id": "1af0ae36",
      "metadata": {
        "id": "1af0ae36"
      },
      "outputs": [],
      "source": [
        "import pandas as pd\n",
        "import numpy as np\n",
        "import re\n",
        "from tqdm.notebook import tqdm\n",
        "tqdm.pandas()\n",
        "\n",
        "from sklearn.feature_extraction.text import CountVectorizer, TfidfVectorizer\n",
        "from sklearn.metrics.pairwise import cosine_similarity\n",
        "from sklearn.linear_model import LogisticRegression, SGDClassifier\n",
        "\n",
        "from sklearn.model_selection import train_test_split\n",
        "\n",
        "from sklearn.metrics import balanced_accuracy_score, precision_score, recall_score, roc_auc_score, accuracy_score\n",
        "from sklearn.metrics import classification_report, f1_score, ConfusionMatrixDisplay\n",
        "import matplotlib.pyplot as plt\n",
        "%matplotlib inline"
      ]
    },
    {
      "cell_type": "code",
      "execution_count": null,
      "id": "0262bcfc",
      "metadata": {
        "id": "0262bcfc"
      },
      "outputs": [],
      "source": [
        "from datasets import Dataset\n",
        "import datasets\n",
        "import torch\n",
        "from transformers import AutoModel, BertTokenizer, BertForSequenceClassification\n",
        "from transformers import TrainingArguments, Trainer, EvalPrediction"
      ]
    },
    {
      "cell_type": "code",
      "execution_count": null,
      "id": "d47b9231",
      "metadata": {
        "id": "d47b9231"
      },
      "outputs": [],
      "source": [
        "from pyaspeller import YandexSpeller\n",
        "\n",
        "speller = YandexSpeller()"
      ]
    },
    {
      "cell_type": "code",
      "execution_count": null,
      "id": "14c359b3",
      "metadata": {
        "id": "14c359b3",
        "outputId": "21ff7abe-3237-4eff-b0fe-7b7677c17ea3"
      },
      "outputs": [
        {
          "name": "stdout",
          "output_type": "stream",
          "text": [
            "cpu\n"
          ]
        }
      ],
      "source": [
        "device = 'cpu'\n",
        "print(device)"
      ]
    },
    {
      "cell_type": "markdown",
      "source": [
        "Ниже расположены **вспомогательные функции** для предобработки данных, вычисления метрик и подготовки словарей:"
      ],
      "metadata": {
        "id": "0eYf_IGhxUF7"
      },
      "id": "0eYf_IGhxUF7"
    },
    {
      "cell_type": "code",
      "execution_count": null,
      "id": "373ec2bb",
      "metadata": {
        "id": "373ec2bb"
      },
      "outputs": [],
      "source": [
        "# Метрики для модели\n",
        "def multi_label_metrics(predictions, labels, threshold=0.5):\n",
        "    # Сперва, применяем сигмовидную форму к прогнозам, имеющим вид: (batch_size, num_labels)\n",
        "    sigmoid = torch.nn.Sigmoid()\n",
        "    probs = sigmoid(torch.Tensor(predictions))\n",
        "    # Затем, используем threshold чтобы превратить их в целочисленные прогнозы\n",
        "    y_pred = np.zeros(probs.shape)\n",
        "    y_pred[np.where(probs >= threshold)] = 1\n",
        "    # Вычисляем метрики\n",
        "    y_true = labels\n",
        "    f1_micro_average = f1_score(y_true=y_true, y_pred=y_pred, average='micro')\n",
        "    roc_auc = roc_auc_score(y_true, y_pred, average = 'micro')\n",
        "    accuracy = accuracy_score(y_true, y_pred)\n",
        "    # Возвращаем в виде dictionary\n",
        "    metrics = {'f1': f1_micro_average,\n",
        "               'roc_auc': roc_auc,\n",
        "               'accuracy': accuracy}\n",
        "    return metrics\n",
        "\n",
        "def compute_metrics(p: EvalPrediction):\n",
        "    preds = p.predictions[0] if isinstance(p.predictions,\n",
        "            tuple) else p.predictions\n",
        "    result = multi_label_metrics(\n",
        "        predictions=preds,\n",
        "        labels=p.label_ids)\n",
        "    return result"
      ]
    },
    {
      "cell_type": "code",
      "execution_count": null,
      "id": "c4135cac",
      "metadata": {
        "id": "c4135cac"
      },
      "outputs": [],
      "source": [
        "# словари для перевода лейблов в числа для модели\n",
        "labels = [label for label in train.columns if label not in ['Question', 'Category']]\n",
        "id2label = {idx:label for idx, label in enumerate(labels)}\n",
        "label2id = {label:idx for idx, label in enumerate(labels)}\n",
        "\n",
        "max_length=24\n",
        "\n",
        "# для трейна\n",
        "def preprocess_data(examples):\n",
        "    # берём пакет текстов\n",
        "    text = examples['Question']\n",
        "    # кодируем их\n",
        "    encoding = tokenizer(text, padding=\"max_length\", truncation=True, max_length=max_length)\n",
        "\n",
        "    # добавляем лейблы\n",
        "    labels_batch = {k: examples[k] for k in examples.keys() if k in labels}\n",
        "    # создаём массив numpy с shape = (batch_size, num_labels)\n",
        "    labels_matrix = np.zeros((len(text), len(labels)))\n",
        "    # Заполняем созданный массив numpy\n",
        "    for idx, label in enumerate(labels):\n",
        "        labels_matrix[:, idx] = labels_batch[label]\n",
        "\n",
        "    encoding[\"labels\"] = labels_matrix.tolist()\n",
        "\n",
        "    return encoding\n",
        "\n",
        "def encoding_dataset(df_train, test_size=0.2):\n",
        "    # подготовка датасета для модели\n",
        "    train_df, valid_df = train_test_split(df_train, test_size=test_size, random_state=42)\n",
        "    train_dataset = Dataset.from_pandas(train_df)\n",
        "    valid_dataset = Dataset.from_pandas(valid_df)\n",
        "    dataset = datasets.DatasetDict({\"train\":train_dataset,\n",
        "                                    \"validation\":valid_dataset,\n",
        "                                   })\n",
        "\n",
        "    encoded_dataset = dataset.map(preprocess_data, batched=True, remove_columns=dataset['train'].column_names)\n",
        "    encoded_dataset.set_format(\"torch\")\n",
        "\n",
        "    return encoded_dataset"
      ]
    },
    {
      "cell_type": "code",
      "execution_count": null,
      "id": "1d6978dd",
      "metadata": {
        "id": "1d6978dd"
      },
      "outputs": [],
      "source": [
        "# для теста и отложенного датасета\n",
        "def preprocess_test(examples):\n",
        "    # берём пакет текстов\n",
        "    text = examples['Question']\n",
        "    # кодируем их\n",
        "    encoding = tokenizer(text, padding=\"max_length\", truncation=True, max_length=max_length)\n",
        "\n",
        "    return encoding\n",
        "\n",
        "def encoding_test(df_test):\n",
        "    # подготовка датасета для модели\n",
        "    test_dataset = Dataset.from_pandas(df_test)\n",
        "    dataset = datasets.DatasetDict({\"test\":test_dataset})\n",
        "\n",
        "    encoded_dataset = dataset.map(preprocess_test, batched=True, remove_columns=dataset['test'].column_names)\n",
        "    encoded_dataset.set_format(\"torch\")\n",
        "\n",
        "    return encoded_dataset"
      ]
    },
    {
      "cell_type": "markdown",
      "source": [
        "Подготовка *тренировочного датафрейма* (удаление дубликатов, пропущенных значений и т.д.):"
      ],
      "metadata": {
        "id": "RQiFrCjpyazb"
      },
      "id": "RQiFrCjpyazb"
    },
    {
      "cell_type": "code",
      "execution_count": null,
      "id": "db7be30c",
      "metadata": {
        "id": "db7be30c",
        "outputId": "a69e4312-f7fa-4428-bcdc-99bb0e12e20a"
      },
      "outputs": [
        {
          "data": {
            "text/html": [
              "<div>\n",
              "<style scoped>\n",
              "    .dataframe tbody tr th:only-of-type {\n",
              "        vertical-align: middle;\n",
              "    }\n",
              "\n",
              "    .dataframe tbody tr th {\n",
              "        vertical-align: top;\n",
              "    }\n",
              "\n",
              "    .dataframe thead th {\n",
              "        text-align: right;\n",
              "    }\n",
              "</style>\n",
              "<table border=\"1\" class=\"dataframe\">\n",
              "  <thead>\n",
              "    <tr style=\"text-align: right;\">\n",
              "      <th></th>\n",
              "      <th>Question</th>\n",
              "      <th>Category</th>\n",
              "      <th>answer_class</th>\n",
              "    </tr>\n",
              "  </thead>\n",
              "  <tbody>\n",
              "    <tr>\n",
              "      <th>0</th>\n",
              "      <td>Где можно узнать о документах или сертификатах...</td>\n",
              "      <td>Документы</td>\n",
              "      <td>0</td>\n",
              "    </tr>\n",
              "    <tr>\n",
              "      <th>1</th>\n",
              "      <td>Какой документ я получу после обучения?</td>\n",
              "      <td>Документы</td>\n",
              "      <td>0</td>\n",
              "    </tr>\n",
              "    <tr>\n",
              "      <th>2</th>\n",
              "      <td>Какие аккредитации или удостоверения я могу ож...</td>\n",
              "      <td>Документы</td>\n",
              "      <td>0</td>\n",
              "    </tr>\n",
              "    <tr>\n",
              "      <th>3</th>\n",
              "      <td>Как происходит выдача дипломов студентам?</td>\n",
              "      <td>Документы</td>\n",
              "      <td>0</td>\n",
              "    </tr>\n",
              "    <tr>\n",
              "      <th>4</th>\n",
              "      <td>Где можно узнать о том, как получить документы...</td>\n",
              "      <td>Документы</td>\n",
              "      <td>0</td>\n",
              "    </tr>\n",
              "  </tbody>\n",
              "</table>\n",
              "</div>"
            ],
            "text/plain": [
              "                                            Question   Category  answer_class\n",
              "0  Где можно узнать о документах или сертификатах...  Документы             0\n",
              "1            Какой документ я получу после обучения?  Документы             0\n",
              "2  Какие аккредитации или удостоверения я могу ож...  Документы             0\n",
              "3          Как происходит выдача дипломов студентам?  Документы             0\n",
              "4  Где можно узнать о том, как получить документы...  Документы             0"
            ]
          },
          "execution_count": 323,
          "metadata": {},
          "output_type": "execute_result"
        }
      ],
      "source": [
        "# дополнительные аугументации в разных файлых\n",
        "frame_list = ['data/train_data_new0.csv', 'data/train_data_new1-.csv', 'data/train_data_spell.csv',\n",
        "              'data/call_operator.csv', 'data/19_osn.csv', \"data/train_ayg.csv\", \"data/train_data_new_new.csv\"]\n",
        "train = pd.concat(map(pd.read_csv, frame_list), ignore_index=True)\n",
        "train.drop_duplicates(subset=['Question'], inplace=True, ignore_index=True)\n",
        "train = train[['Question', 'Category', 'answer_class']]\n",
        "train.dropna(how='any', axis=0, ignore_index=True, inplace=True)\n",
        "train = train[train.answer_class!=30]  # уберем вызов оператора\n",
        "train['answer_class'] = train['answer_class'].astype(int)\n",
        "train.head()"
      ]
    },
    {
      "cell_type": "code",
      "execution_count": null,
      "id": "50e970c3",
      "metadata": {
        "id": "50e970c3",
        "outputId": "013836a1-d7f3-4ab7-a626-5956f3b90d1a"
      },
      "outputs": [
        {
          "data": {
            "text/plain": [
              "(1364, 3)"
            ]
          },
          "execution_count": 324,
          "metadata": {},
          "output_type": "execute_result"
        }
      ],
      "source": [
        "train.shape"
      ]
    },
    {
      "cell_type": "code",
      "execution_count": null,
      "id": "cc6fc884",
      "metadata": {
        "id": "cc6fc884",
        "outputId": "443393b5-c661-48f0-83b5-0ac3355d8cc4"
      },
      "outputs": [
        {
          "data": {
            "text/html": [
              "<div>\n",
              "<style scoped>\n",
              "    .dataframe tbody tr th:only-of-type {\n",
              "        vertical-align: middle;\n",
              "    }\n",
              "\n",
              "    .dataframe tbody tr th {\n",
              "        vertical-align: top;\n",
              "    }\n",
              "\n",
              "    .dataframe thead th {\n",
              "        text-align: right;\n",
              "    }\n",
              "</style>\n",
              "<table border=\"1\" class=\"dataframe\">\n",
              "  <thead>\n",
              "    <tr style=\"text-align: right;\">\n",
              "      <th></th>\n",
              "      <th>Question</th>\n",
              "      <th>Category</th>\n",
              "      <th>answer_class</th>\n",
              "    </tr>\n",
              "  </thead>\n",
              "  <tbody>\n",
              "    <tr>\n",
              "      <th>0</th>\n",
              "      <td>Получу ли я диплом государственного образца по...</td>\n",
              "      <td>Документы</td>\n",
              "      <td>0</td>\n",
              "    </tr>\n",
              "    <tr>\n",
              "      <th>1</th>\n",
              "      <td>Что я получу если сдам все экзамены?</td>\n",
              "      <td>Документы</td>\n",
              "      <td>0</td>\n",
              "    </tr>\n",
              "    <tr>\n",
              "      <th>2</th>\n",
              "      <td>Если я не сдам один экзамен, могу ли я получит...</td>\n",
              "      <td>Документы</td>\n",
              "      <td>1</td>\n",
              "    </tr>\n",
              "    <tr>\n",
              "      <th>3</th>\n",
              "      <td>Как оцениваются компетенции?</td>\n",
              "      <td>Документы</td>\n",
              "      <td>1</td>\n",
              "    </tr>\n",
              "    <tr>\n",
              "      <th>4</th>\n",
              "      <td>Если я еще учусь в университете, могу я получи...</td>\n",
              "      <td>Документы</td>\n",
              "      <td>2</td>\n",
              "    </tr>\n",
              "  </tbody>\n",
              "</table>\n",
              "</div>"
            ],
            "text/plain": [
              "                                            Question   Category  answer_class\n",
              "0  Получу ли я диплом государственного образца по...  Документы             0\n",
              "1               Что я получу если сдам все экзамены?  Документы             0\n",
              "2  Если я не сдам один экзамен, могу ли я получит...  Документы             1\n",
              "3                       Как оцениваются компетенции?  Документы             1\n",
              "4  Если я еще учусь в университете, могу я получи...  Документы             2"
            ]
          },
          "execution_count": 325,
          "metadata": {},
          "output_type": "execute_result"
        }
      ],
      "source": [
        "# отложенный датасет для проверки - размеченный вручную\n",
        "hold = pd.read_csv('data/hold_data.csv', sep=',', index_col=None)\n",
        "test_labels = hold['answer_class'].tolist()\n",
        "hold.head()"
      ]
    },
    {
      "cell_type": "code",
      "execution_count": null,
      "id": "657acf32",
      "metadata": {
        "id": "657acf32",
        "outputId": "710602aa-79ee-46a4-96cb-1c56b05ee096"
      },
      "outputs": [
        {
          "data": {
            "text/plain": [
              "20"
            ]
          },
          "execution_count": 326,
          "metadata": {},
          "output_type": "execute_result"
        }
      ],
      "source": [
        "# максимальная длина документа\n",
        "seq_len_train = [len(str(i).split()) for i in train['Question']]\n",
        "max_seq_len = max(seq_len_train)\n",
        "# если меньше 512 tokenizer(max_length) уменьшить,чтобы не было пустоты\n",
        "max_seq_len"
      ]
    },
    {
      "cell_type": "code",
      "execution_count": null,
      "id": "8ff2cde7",
      "metadata": {
        "id": "8ff2cde7",
        "outputId": "f07485d4-d4be-4e68-b3ba-b38cd99a9ee8"
      },
      "outputs": [
        {
          "data": {
            "text/plain": [
              "<Axes: >"
            ]
          },
          "execution_count": 327,
          "metadata": {},
          "output_type": "execute_result"
        },
        {
          "data": {
            "image/png": "[encoded data removed]",
            "text/plain": [
              "<Figure size 432x288 with 1 Axes>"
            ]
          },
          "metadata": {
            "needs_background": "light"
          },
          "output_type": "display_data"
        }
      ],
      "source": [
        "seq_len = [len(str(i).split()) for i in train['Question']]\n",
        "pd.Series(seq_len).hist(bins = 50)"
      ]
    },
    {
      "cell_type": "code",
      "execution_count": null,
      "id": "33380942",
      "metadata": {
        "id": "33380942",
        "outputId": "fdf852e6-3c7e-4e5a-ef1f-b7e5c6e40009"
      },
      "outputs": [
        {
          "data": {
            "text/html": [
              "<div>\n",
              "<style scoped>\n",
              "    .dataframe tbody tr th:only-of-type {\n",
              "        vertical-align: middle;\n",
              "    }\n",
              "\n",
              "    .dataframe tbody tr th {\n",
              "        vertical-align: top;\n",
              "    }\n",
              "\n",
              "    .dataframe thead th {\n",
              "        text-align: right;\n",
              "    }\n",
              "</style>\n",
              "<table border=\"1\" class=\"dataframe\">\n",
              "  <thead>\n",
              "    <tr style=\"text-align: right;\">\n",
              "      <th></th>\n",
              "      <th>Question</th>\n",
              "      <th>Category</th>\n",
              "      <th>0</th>\n",
              "      <th>1</th>\n",
              "      <th>2</th>\n",
              "      <th>3</th>\n",
              "      <th>4</th>\n",
              "      <th>5</th>\n",
              "      <th>6</th>\n",
              "      <th>7</th>\n",
              "      <th>...</th>\n",
              "      <th>20</th>\n",
              "      <th>21</th>\n",
              "      <th>22</th>\n",
              "      <th>23</th>\n",
              "      <th>24</th>\n",
              "      <th>25</th>\n",
              "      <th>26</th>\n",
              "      <th>27</th>\n",
              "      <th>28</th>\n",
              "      <th>29</th>\n",
              "    </tr>\n",
              "  </thead>\n",
              "  <tbody>\n",
              "    <tr>\n",
              "      <th>0</th>\n",
              "      <td>Где можно узнать о документах или сертификатах...</td>\n",
              "      <td>Документы</td>\n",
              "      <td>True</td>\n",
              "      <td>False</td>\n",
              "      <td>False</td>\n",
              "      <td>False</td>\n",
              "      <td>False</td>\n",
              "      <td>False</td>\n",
              "      <td>False</td>\n",
              "      <td>False</td>\n",
              "      <td>...</td>\n",
              "      <td>False</td>\n",
              "      <td>False</td>\n",
              "      <td>False</td>\n",
              "      <td>False</td>\n",
              "      <td>False</td>\n",
              "      <td>False</td>\n",
              "      <td>False</td>\n",
              "      <td>False</td>\n",
              "      <td>False</td>\n",
              "      <td>False</td>\n",
              "    </tr>\n",
              "    <tr>\n",
              "      <th>1</th>\n",
              "      <td>Какой документ я получу после обучения?</td>\n",
              "      <td>Документы</td>\n",
              "      <td>True</td>\n",
              "      <td>False</td>\n",
              "      <td>False</td>\n",
              "      <td>False</td>\n",
              "      <td>False</td>\n",
              "      <td>False</td>\n",
              "      <td>False</td>\n",
              "      <td>False</td>\n",
              "      <td>...</td>\n",
              "      <td>False</td>\n",
              "      <td>False</td>\n",
              "      <td>False</td>\n",
              "      <td>False</td>\n",
              "      <td>False</td>\n",
              "      <td>False</td>\n",
              "      <td>False</td>\n",
              "      <td>False</td>\n",
              "      <td>False</td>\n",
              "      <td>False</td>\n",
              "    </tr>\n",
              "    <tr>\n",
              "      <th>2</th>\n",
              "      <td>Какие аккредитации или удостоверения я могу ож...</td>\n",
              "      <td>Документы</td>\n",
              "      <td>True</td>\n",
              "      <td>False</td>\n",
              "      <td>False</td>\n",
              "      <td>False</td>\n",
              "      <td>False</td>\n",
              "      <td>False</td>\n",
              "      <td>False</td>\n",
              "      <td>False</td>\n",
              "      <td>...</td>\n",
              "      <td>False</td>\n",
              "      <td>False</td>\n",
              "      <td>False</td>\n",
              "      <td>False</td>\n",
              "      <td>False</td>\n",
              "      <td>False</td>\n",
              "      <td>False</td>\n",
              "      <td>False</td>\n",
              "      <td>False</td>\n",
              "      <td>False</td>\n",
              "    </tr>\n",
              "    <tr>\n",
              "      <th>3</th>\n",
              "      <td>Как происходит выдача дипломов студентам?</td>\n",
              "      <td>Документы</td>\n",
              "      <td>True</td>\n",
              "      <td>False</td>\n",
              "      <td>False</td>\n",
              "      <td>False</td>\n",
              "      <td>False</td>\n",
              "      <td>False</td>\n",
              "      <td>False</td>\n",
              "      <td>False</td>\n",
              "      <td>...</td>\n",
              "      <td>False</td>\n",
              "      <td>False</td>\n",
              "      <td>False</td>\n",
              "      <td>False</td>\n",
              "      <td>False</td>\n",
              "      <td>False</td>\n",
              "      <td>False</td>\n",
              "      <td>False</td>\n",
              "      <td>False</td>\n",
              "      <td>False</td>\n",
              "    </tr>\n",
              "    <tr>\n",
              "      <th>4</th>\n",
              "      <td>Где можно узнать о том, как получить документы...</td>\n",
              "      <td>Документы</td>\n",
              "      <td>True</td>\n",
              "      <td>False</td>\n",
              "      <td>False</td>\n",
              "      <td>False</td>\n",
              "      <td>False</td>\n",
              "      <td>False</td>\n",
              "      <td>False</td>\n",
              "      <td>False</td>\n",
              "      <td>...</td>\n",
              "      <td>False</td>\n",
              "      <td>False</td>\n",
              "      <td>False</td>\n",
              "      <td>False</td>\n",
              "      <td>False</td>\n",
              "      <td>False</td>\n",
              "      <td>False</td>\n",
              "      <td>False</td>\n",
              "      <td>False</td>\n",
              "      <td>False</td>\n",
              "    </tr>\n",
              "  </tbody>\n",
              "</table>\n",
              "<p>5 rows × 32 columns</p>\n",
              "</div>"
            ],
            "text/plain": [
              "                                            Question   Category     0      1  \\\n",
              "0  Где можно узнать о документах или сертификатах...  Документы  True  False   \n",
              "1            Какой документ я получу после обучения?  Документы  True  False   \n",
              "2  Какие аккредитации или удостоверения я могу ож...  Документы  True  False   \n",
              "3          Как происходит выдача дипломов студентам?  Документы  True  False   \n",
              "4  Где можно узнать о том, как получить документы...  Документы  True  False   \n",
              "\n",
              "       2      3      4      5      6      7  ...     20     21     22     23  \\\n",
              "0  False  False  False  False  False  False  ...  False  False  False  False   \n",
              "1  False  False  False  False  False  False  ...  False  False  False  False   \n",
              "2  False  False  False  False  False  False  ...  False  False  False  False   \n",
              "3  False  False  False  False  False  False  ...  False  False  False  False   \n",
              "4  False  False  False  False  False  False  ...  False  False  False  False   \n",
              "\n",
              "      24     25     26     27     28     29  \n",
              "0  False  False  False  False  False  False  \n",
              "1  False  False  False  False  False  False  \n",
              "2  False  False  False  False  False  False  \n",
              "3  False  False  False  False  False  False  \n",
              "4  False  False  False  False  False  False  \n",
              "\n",
              "[5 rows x 32 columns]"
            ]
          },
          "execution_count": 328,
          "metadata": {},
          "output_type": "execute_result"
        }
      ],
      "source": [
        "train = pd.get_dummies(train, columns=['answer_class'], prefix='', prefix_sep='', dtype=bool, drop_first= False)\n",
        "train.head()"
      ]
    },
    {
      "cell_type": "code",
      "execution_count": null,
      "id": "6e1a7bbb",
      "metadata": {
        "id": "6e1a7bbb",
        "outputId": "dfb84195-0a5e-444d-ccf7-1a15672d865a"
      },
      "outputs": [
        {
          "data": {
            "text/html": [
              "<div>\n",
              "<style scoped>\n",
              "    .dataframe tbody tr th:only-of-type {\n",
              "        vertical-align: middle;\n",
              "    }\n",
              "\n",
              "    .dataframe tbody tr th {\n",
              "        vertical-align: top;\n",
              "    }\n",
              "\n",
              "    .dataframe thead th {\n",
              "        text-align: right;\n",
              "    }\n",
              "</style>\n",
              "<table border=\"1\" class=\"dataframe\">\n",
              "  <thead>\n",
              "    <tr style=\"text-align: right;\">\n",
              "      <th></th>\n",
              "      <th>Question</th>\n",
              "      <th>Category</th>\n",
              "      <th>0</th>\n",
              "      <th>1</th>\n",
              "      <th>2</th>\n",
              "      <th>3</th>\n",
              "      <th>4</th>\n",
              "      <th>5</th>\n",
              "      <th>6</th>\n",
              "      <th>7</th>\n",
              "      <th>...</th>\n",
              "      <th>20</th>\n",
              "      <th>21</th>\n",
              "      <th>22</th>\n",
              "      <th>23</th>\n",
              "      <th>24</th>\n",
              "      <th>25</th>\n",
              "      <th>26</th>\n",
              "      <th>27</th>\n",
              "      <th>28</th>\n",
              "      <th>29</th>\n",
              "    </tr>\n",
              "  </thead>\n",
              "  <tbody>\n",
              "    <tr>\n",
              "      <th>0</th>\n",
              "      <td>Получу ли я диплом государственного образца по...</td>\n",
              "      <td>Документы</td>\n",
              "      <td>True</td>\n",
              "      <td>False</td>\n",
              "      <td>False</td>\n",
              "      <td>False</td>\n",
              "      <td>False</td>\n",
              "      <td>False</td>\n",
              "      <td>False</td>\n",
              "      <td>False</td>\n",
              "      <td>...</td>\n",
              "      <td>False</td>\n",
              "      <td>False</td>\n",
              "      <td>False</td>\n",
              "      <td>False</td>\n",
              "      <td>False</td>\n",
              "      <td>False</td>\n",
              "      <td>False</td>\n",
              "      <td>False</td>\n",
              "      <td>False</td>\n",
              "      <td>False</td>\n",
              "    </tr>\n",
              "    <tr>\n",
              "      <th>1</th>\n",
              "      <td>Что я получу если сдам все экзамены?</td>\n",
              "      <td>Документы</td>\n",
              "      <td>True</td>\n",
              "      <td>False</td>\n",
              "      <td>False</td>\n",
              "      <td>False</td>\n",
              "      <td>False</td>\n",
              "      <td>False</td>\n",
              "      <td>False</td>\n",
              "      <td>False</td>\n",
              "      <td>...</td>\n",
              "      <td>False</td>\n",
              "      <td>False</td>\n",
              "      <td>False</td>\n",
              "      <td>False</td>\n",
              "      <td>False</td>\n",
              "      <td>False</td>\n",
              "      <td>False</td>\n",
              "      <td>False</td>\n",
              "      <td>False</td>\n",
              "      <td>False</td>\n",
              "    </tr>\n",
              "    <tr>\n",
              "      <th>2</th>\n",
              "      <td>Если я не сдам один экзамен, могу ли я получит...</td>\n",
              "      <td>Документы</td>\n",
              "      <td>False</td>\n",
              "      <td>True</td>\n",
              "      <td>False</td>\n",
              "      <td>False</td>\n",
              "      <td>False</td>\n",
              "      <td>False</td>\n",
              "      <td>False</td>\n",
              "      <td>False</td>\n",
              "      <td>...</td>\n",
              "      <td>False</td>\n",
              "      <td>False</td>\n",
              "      <td>False</td>\n",
              "      <td>False</td>\n",
              "      <td>False</td>\n",
              "      <td>False</td>\n",
              "      <td>False</td>\n",
              "      <td>False</td>\n",
              "      <td>False</td>\n",
              "      <td>False</td>\n",
              "    </tr>\n",
              "    <tr>\n",
              "      <th>3</th>\n",
              "      <td>Как оцениваются компетенции?</td>\n",
              "      <td>Документы</td>\n",
              "      <td>False</td>\n",
              "      <td>True</td>\n",
              "      <td>False</td>\n",
              "      <td>False</td>\n",
              "      <td>False</td>\n",
              "      <td>False</td>\n",
              "      <td>False</td>\n",
              "      <td>False</td>\n",
              "      <td>...</td>\n",
              "      <td>False</td>\n",
              "      <td>False</td>\n",
              "      <td>False</td>\n",
              "      <td>False</td>\n",
              "      <td>False</td>\n",
              "      <td>False</td>\n",
              "      <td>False</td>\n",
              "      <td>False</td>\n",
              "      <td>False</td>\n",
              "      <td>False</td>\n",
              "    </tr>\n",
              "    <tr>\n",
              "      <th>4</th>\n",
              "      <td>Если я еще учусь в университете, могу я получи...</td>\n",
              "      <td>Документы</td>\n",
              "      <td>False</td>\n",
              "      <td>False</td>\n",
              "      <td>True</td>\n",
              "      <td>False</td>\n",
              "      <td>False</td>\n",
              "      <td>False</td>\n",
              "      <td>False</td>\n",
              "      <td>False</td>\n",
              "      <td>...</td>\n",
              "      <td>False</td>\n",
              "      <td>False</td>\n",
              "      <td>False</td>\n",
              "      <td>False</td>\n",
              "      <td>False</td>\n",
              "      <td>False</td>\n",
              "      <td>False</td>\n",
              "      <td>False</td>\n",
              "      <td>False</td>\n",
              "      <td>False</td>\n",
              "    </tr>\n",
              "  </tbody>\n",
              "</table>\n",
              "<p>5 rows × 32 columns</p>\n",
              "</div>"
            ],
            "text/plain": [
              "                                            Question   Category      0      1  \\\n",
              "0  Получу ли я диплом государственного образца по...  Документы   True  False   \n",
              "1               Что я получу если сдам все экзамены?  Документы   True  False   \n",
              "2  Если я не сдам один экзамен, могу ли я получит...  Документы  False   True   \n",
              "3                       Как оцениваются компетенции?  Документы  False   True   \n",
              "4  Если я еще учусь в университете, могу я получи...  Документы  False  False   \n",
              "\n",
              "       2      3      4      5      6      7  ...     20     21     22     23  \\\n",
              "0  False  False  False  False  False  False  ...  False  False  False  False   \n",
              "1  False  False  False  False  False  False  ...  False  False  False  False   \n",
              "2  False  False  False  False  False  False  ...  False  False  False  False   \n",
              "3  False  False  False  False  False  False  ...  False  False  False  False   \n",
              "4   True  False  False  False  False  False  ...  False  False  False  False   \n",
              "\n",
              "      24     25     26     27     28     29  \n",
              "0  False  False  False  False  False  False  \n",
              "1  False  False  False  False  False  False  \n",
              "2  False  False  False  False  False  False  \n",
              "3  False  False  False  False  False  False  \n",
              "4  False  False  False  False  False  False  \n",
              "\n",
              "[5 rows x 32 columns]"
            ]
          },
          "execution_count": 329,
          "metadata": {},
          "output_type": "execute_result"
        }
      ],
      "source": [
        "hold = pd.get_dummies(hold, columns=['answer_class'], prefix='', prefix_sep='', dtype=bool, drop_first= False)\n",
        "hold.head()"
      ]
    },
    {
      "cell_type": "code",
      "execution_count": null,
      "id": "fea3eeb2",
      "metadata": {
        "id": "fea3eeb2"
      },
      "outputs": [],
      "source": [
        "train_answer_class = pd.read_csv('train_SecondPilot/answer_class.csv', sep=',', index_col=None)"
      ]
    },
    {
      "cell_type": "code",
      "execution_count": null,
      "id": "62b690f0",
      "metadata": {
        "id": "62b690f0"
      },
      "outputs": [],
      "source": [
        "model_name = 'bert-base-multilingual-uncased'\n",
        "\n",
        "tokenizer = BertTokenizer.from_pretrained(model_name)"
      ]
    },
    {
      "cell_type": "code",
      "execution_count": null,
      "id": "dd1c6b0c",
      "metadata": {
        "colab": {
          "referenced_widgets": [
            "30cd67f6b3ea4c14afd14364c2e4950e",
            "050311d0789648f8ad0824d4d79936c1"
          ]
        },
        "id": "dd1c6b0c",
        "outputId": "9b5da161-fdb0-40bc-8d3d-3b22fcfd4e22"
      },
      "outputs": [
        {
          "data": {
            "application/vnd.jupyter.widget-view+json": {
              "model_id": "30cd67f6b3ea4c14afd14364c2e4950e",
              "version_major": 2,
              "version_minor": 0
            },
            "text/plain": [
              "  0%|          | 0/2 [00:00<?, ?ba/s]"
            ]
          },
          "metadata": {},
          "output_type": "display_data"
        },
        {
          "data": {
            "application/vnd.jupyter.widget-view+json": {
              "model_id": "050311d0789648f8ad0824d4d79936c1",
              "version_major": 2,
              "version_minor": 0
            },
            "text/plain": [
              "  0%|          | 0/1 [00:00<?, ?ba/s]"
            ]
          },
          "metadata": {},
          "output_type": "display_data"
        }
      ],
      "source": [
        "encoded_dataset = encoding_dataset(train, test_size=0.2)"
      ]
    },
    {
      "cell_type": "code",
      "execution_count": null,
      "id": "c289e94a",
      "metadata": {
        "id": "c289e94a",
        "outputId": "1d3533d1-a872-4160-a96a-2331fc189d97"
      },
      "outputs": [
        {
          "name": "stdout",
          "output_type": "stream",
          "text": [
            "dict_keys(['input_ids', 'token_type_ids', 'attention_mask', 'labels'])\n",
            "tensor([0., 0., 0., 0., 0., 0., 0., 0., 0., 0., 0., 0., 0., 0., 0., 1., 0., 0.,\n",
            "        0., 0., 0., 0., 0., 0., 0., 0., 0., 0., 0., 0.])\n",
            "['15']\n",
            "[CLS] какие ресурсы доступны в основном обучении через личныи кабинет? [SEP] [PAD] [PAD]\n"
          ]
        }
      ],
      "source": [
        "# пример для проверки\n",
        "i=0\n",
        "example = encoded_dataset['train'][i]\n",
        "print(example.keys())\n",
        "print(example['labels'])\n",
        "print([id2label[idx] for idx, label in enumerate(example['labels']) if label == 1.0])\n",
        "print(tokenizer.decode(example['input_ids']))"
      ]
    },
    {
      "cell_type": "markdown",
      "id": "d3cb8adf",
      "metadata": {
        "id": "d3cb8adf"
      },
      "source": [
        "Ниже выполняется **тренировка модели**:"
      ]
    },
    {
      "cell_type": "code",
      "execution_count": null,
      "id": "be9e5454",
      "metadata": {
        "id": "be9e5454",
        "outputId": "440a9fca-584b-4f2e-cad3-ddec4a53e038"
      },
      "outputs": [
        {
          "name": "stderr",
          "output_type": "stream",
          "text": [
            "Some weights of BertForSequenceClassification were not initialized from the model checkpoint at bert-base-multilingual-uncased and are newly initialized: ['classifier.bias', 'classifier.weight']\n",
            "You should probably TRAIN this model on a down-stream task to be able to use it for predictions and inference.\n"
          ]
        }
      ],
      "source": [
        "model = BertForSequenceClassification.from_pretrained(model_name,\n",
        "                                                      problem_type=\"multi_label_classification\",\n",
        "                                                      num_labels=len(labels),\n",
        "                                                      id2label=id2label,\n",
        "                                                      label2id=label2id).to(device)"
      ]
    },
    {
      "cell_type": "code",
      "execution_count": null,
      "id": "d44f51da",
      "metadata": {
        "id": "d44f51da"
      },
      "outputs": [],
      "source": [
        "batch_size = 1  # меньшие - ухудшают результат до случайного\n",
        "metric_name = \"f1\"\n",
        "\n",
        "args = TrainingArguments(\n",
        "    output_dir = \"training/results\",        # Выходной каталог\n",
        "    evaluation_strategy = \"epoch\",          # Валидация после каждой эпохи (можно после конкретного кол-ва шагов)\n",
        "    save_strategy = \"epoch\",                # Сохранение после каждой эпохи\n",
        "    learning_rate=1e-5,                     # Скорость обучения 1e-5 = 0,00001\n",
        "    per_device_train_batch_size=batch_size, # Размер пакета для каждого устройства во время обучения\n",
        "    per_device_eval_batch_size=batch_size,  # Размер пакета для каждого устройства во время валидации\n",
        "    num_train_epochs=20,                    # Кол-во эпох для обучения\n",
        "    weight_decay=0.01,                      # Понижение весов\n",
        "    load_best_model_at_end=True,            # Загружать ли лучшую модель после обучения\n",
        "    metric_for_best_model=metric_name,\n",
        "    save_total_limit = 1,\n",
        "    seed=42,\n",
        "    report_to=\"none\"\n",
        ")"
      ]
    },
    {
      "cell_type": "code",
      "execution_count": null,
      "id": "a5b9d7a4",
      "metadata": {
        "id": "a5b9d7a4"
      },
      "outputs": [],
      "source": [
        "trainer = Trainer(\n",
        "    model,\n",
        "    args,\n",
        "    train_dataset=encoded_dataset[\"train\"],\n",
        "    eval_dataset=encoded_dataset[\"validation\"],\n",
        "    tokenizer=tokenizer,\n",
        "    compute_metrics=compute_metrics\n",
        ")"
      ]
    },
    {
      "cell_type": "code",
      "execution_count": null,
      "id": "6cfbafd8",
      "metadata": {
        "id": "6cfbafd8",
        "outputId": "ebbd627a-dacb-4ac1-ea06-5eff7bfa3b5f"
      },
      "outputs": [
        {
          "data": {
            "text/html": [
              "\n",
              "    <div>\n",
              "      \n",
              "      <progress value='21820' max='21820' style='width:300px; height:20px; vertical-align: middle;'></progress>\n",
              "      [21820/21820 29:51, Epoch 20/20]\n",
              "    </div>\n",
              "    <table border=\"1\" class=\"dataframe\">\n",
              "  <thead>\n",
              " <tr style=\"text-align: left;\">\n",
              "      <th>Epoch</th>\n",
              "      <th>Training Loss</th>\n",
              "      <th>Validation Loss</th>\n",
              "      <th>F1</th>\n",
              "      <th>Roc Auc</th>\n",
              "      <th>Accuracy</th>\n",
              "    </tr>\n",
              "  </thead>\n",
              "  <tbody>\n",
              "    <tr>\n",
              "      <td>1</td>\n",
              "      <td>0.138700</td>\n",
              "      <td>0.128469</td>\n",
              "      <td>0.000000</td>\n",
              "      <td>0.500000</td>\n",
              "      <td>0.000000</td>\n",
              "    </tr>\n",
              "    <tr>\n",
              "      <td>2</td>\n",
              "      <td>0.111300</td>\n",
              "      <td>0.097781</td>\n",
              "      <td>0.411429</td>\n",
              "      <td>0.631552</td>\n",
              "      <td>0.263736</td>\n",
              "    </tr>\n",
              "    <tr>\n",
              "      <td>3</td>\n",
              "      <td>0.081800</td>\n",
              "      <td>0.073060</td>\n",
              "      <td>0.564767</td>\n",
              "      <td>0.699381</td>\n",
              "      <td>0.399267</td>\n",
              "    </tr>\n",
              "    <tr>\n",
              "      <td>4</td>\n",
              "      <td>0.059500</td>\n",
              "      <td>0.056977</td>\n",
              "      <td>0.683962</td>\n",
              "      <td>0.765189</td>\n",
              "      <td>0.531136</td>\n",
              "    </tr>\n",
              "    <tr>\n",
              "      <td>5</td>\n",
              "      <td>0.043000</td>\n",
              "      <td>0.044352</td>\n",
              "      <td>0.809224</td>\n",
              "      <td>0.852785</td>\n",
              "      <td>0.706960</td>\n",
              "    </tr>\n",
              "    <tr>\n",
              "      <td>6</td>\n",
              "      <td>0.028600</td>\n",
              "      <td>0.040179</td>\n",
              "      <td>0.851485</td>\n",
              "      <td>0.892699</td>\n",
              "      <td>0.787546</td>\n",
              "    </tr>\n",
              "    <tr>\n",
              "      <td>7</td>\n",
              "      <td>0.022900</td>\n",
              "      <td>0.032140</td>\n",
              "      <td>0.885880</td>\n",
              "      <td>0.918467</td>\n",
              "      <td>0.838828</td>\n",
              "    </tr>\n",
              "    <tr>\n",
              "      <td>8</td>\n",
              "      <td>0.017700</td>\n",
              "      <td>0.029485</td>\n",
              "      <td>0.889734</td>\n",
              "      <td>0.927371</td>\n",
              "      <td>0.857143</td>\n",
              "    </tr>\n",
              "    <tr>\n",
              "      <td>9</td>\n",
              "      <td>0.013700</td>\n",
              "      <td>0.040343</td>\n",
              "      <td>0.845865</td>\n",
              "      <td>0.909941</td>\n",
              "      <td>0.824176</td>\n",
              "    </tr>\n",
              "    <tr>\n",
              "      <td>10</td>\n",
              "      <td>0.011900</td>\n",
              "      <td>0.025763</td>\n",
              "      <td>0.903592</td>\n",
              "      <td>0.936655</td>\n",
              "      <td>0.875458</td>\n",
              "    </tr>\n",
              "    <tr>\n",
              "      <td>11</td>\n",
              "      <td>0.008300</td>\n",
              "      <td>0.024327</td>\n",
              "      <td>0.899811</td>\n",
              "      <td>0.934761</td>\n",
              "      <td>0.871795</td>\n",
              "    </tr>\n",
              "    <tr>\n",
              "      <td>12</td>\n",
              "      <td>0.006700</td>\n",
              "      <td>0.024473</td>\n",
              "      <td>0.902622</td>\n",
              "      <td>0.940129</td>\n",
              "      <td>0.882784</td>\n",
              "    </tr>\n",
              "    <tr>\n",
              "      <td>13</td>\n",
              "      <td>0.005800</td>\n",
              "      <td>0.023703</td>\n",
              "      <td>0.909774</td>\n",
              "      <td>0.942150</td>\n",
              "      <td>0.886447</td>\n",
              "    </tr>\n",
              "    <tr>\n",
              "      <td>14</td>\n",
              "      <td>0.004700</td>\n",
              "      <td>0.025898</td>\n",
              "      <td>0.893458</td>\n",
              "      <td>0.936276</td>\n",
              "      <td>0.875458</td>\n",
              "    </tr>\n",
              "    <tr>\n",
              "      <td>15</td>\n",
              "      <td>0.004400</td>\n",
              "      <td>0.022703</td>\n",
              "      <td>0.915888</td>\n",
              "      <td>0.947644</td>\n",
              "      <td>0.897436</td>\n",
              "    </tr>\n",
              "    <tr>\n",
              "      <td>16</td>\n",
              "      <td>0.003800</td>\n",
              "      <td>0.023923</td>\n",
              "      <td>0.911820</td>\n",
              "      <td>0.943981</td>\n",
              "      <td>0.890110</td>\n",
              "    </tr>\n",
              "    <tr>\n",
              "      <td>17</td>\n",
              "      <td>0.003300</td>\n",
              "      <td>0.024143</td>\n",
              "      <td>0.903346</td>\n",
              "      <td>0.943666</td>\n",
              "      <td>0.890110</td>\n",
              "    </tr>\n",
              "    <tr>\n",
              "      <td>18</td>\n",
              "      <td>0.003000</td>\n",
              "      <td>0.023158</td>\n",
              "      <td>0.914179</td>\n",
              "      <td>0.947581</td>\n",
              "      <td>0.897436</td>\n",
              "    </tr>\n",
              "    <tr>\n",
              "      <td>19</td>\n",
              "      <td>0.002900</td>\n",
              "      <td>0.024284</td>\n",
              "      <td>0.912477</td>\n",
              "      <td>0.947518</td>\n",
              "      <td>0.897436</td>\n",
              "    </tr>\n",
              "    <tr>\n",
              "      <td>20</td>\n",
              "      <td>0.002600</td>\n",
              "      <td>0.024156</td>\n",
              "      <td>0.912477</td>\n",
              "      <td>0.947518</td>\n",
              "      <td>0.897436</td>\n",
              "    </tr>\n",
              "  </tbody>\n",
              "</table><p>"
            ],
            "text/plain": [
              "<IPython.core.display.HTML object>"
            ]
          },
          "metadata": {},
          "output_type": "display_data"
        },
        {
          "data": {
            "text/plain": [
              "TrainOutput(global_step=21820, training_loss=0.03140109504012205, metrics={'train_runtime': 1791.4378, 'train_samples_per_second': 12.18, 'train_steps_per_second': 12.18, 'total_flos': 269180931576960.0, 'train_loss': 0.03140109504012205, 'epoch': 20.0})"
            ]
          },
          "execution_count": 337,
          "metadata": {},
          "output_type": "execute_result"
        }
      ],
      "source": [
        "trainer.train()"
      ]
    },
    {
      "cell_type": "markdown",
      "id": "e04efd46",
      "metadata": {
        "id": "e04efd46"
      },
      "source": [
        "**Валидация**:"
      ]
    },
    {
      "cell_type": "code",
      "execution_count": null,
      "id": "9796030c",
      "metadata": {
        "id": "9796030c",
        "outputId": "41926450-678d-44d8-f4db-8643fccf22e6"
      },
      "outputs": [
        {
          "data": {
            "text/html": [],
            "text/plain": [
              "<IPython.core.display.HTML object>"
            ]
          },
          "metadata": {},
          "output_type": "display_data"
        },
        {
          "data": {
            "text/plain": [
              "{'eval_loss': 0.022703271359205246,\n",
              " 'eval_f1': 0.9158878504672897,\n",
              " 'eval_roc_auc': 0.9476443097132752,\n",
              " 'eval_accuracy': 0.8974358974358975,\n",
              " 'eval_runtime': 2.4575,\n",
              " 'eval_samples_per_second': 111.086,\n",
              " 'eval_steps_per_second': 111.086,\n",
              " 'epoch': 20.0}"
            ]
          },
          "execution_count": 338,
          "metadata": {},
          "output_type": "execute_result"
        }
      ],
      "source": [
        "# встроенная валидация\n",
        "trainer.evaluate()"
      ]
    },
    {
      "cell_type": "markdown",
      "id": "2220c21d",
      "metadata": {
        "id": "2220c21d"
      },
      "source": [
        "**Отложенный датасет**:"
      ]
    },
    {
      "cell_type": "code",
      "execution_count": null,
      "id": "f2c141e0",
      "metadata": {
        "id": "f2c141e0"
      },
      "outputs": [],
      "source": [
        "def get_prediction_(dataset):\n",
        "    # предсказание для теста\n",
        "    pred = trainer.predict(dataset)\n",
        "    labels = np.argmax(pred.predictions, axis = -1)\n",
        "    labels = [id2label[idx] for idx in list(labels)]\n",
        "    return labels\n",
        "\n",
        "def get_prediction(dataset):\n",
        "    # предсказание для датасета\n",
        "    pred = trainer.predict(dataset)\n",
        "    predict = pred.predictions\n",
        "    labels = np.argmax(predict, axis = -1)\n",
        "    score = np.max(predict, axis = -1)\n",
        "    return labels, score"
      ]
    },
    {
      "cell_type": "code",
      "execution_count": null,
      "id": "5df71794",
      "metadata": {
        "colab": {
          "referenced_widgets": [
            "310bb782f93b4e8d900d2ce2585dbfb1"
          ]
        },
        "id": "5df71794",
        "outputId": "ad53826e-5d67-4117-88e4-affb002cac6c"
      },
      "outputs": [
        {
          "data": {
            "application/vnd.jupyter.widget-view+json": {
              "model_id": "310bb782f93b4e8d900d2ce2585dbfb1",
              "version_major": 2,
              "version_minor": 0
            },
            "text/plain": [
              "  0%|          | 0/1 [00:00<?, ?ba/s]"
            ]
          },
          "metadata": {},
          "output_type": "display_data"
        }
      ],
      "source": [
        "test_dataset = encoding_datatest(hold[['Question']])"
      ]
    },
    {
      "cell_type": "code",
      "execution_count": null,
      "id": "b4cb7be4",
      "metadata": {
        "scrolled": true,
        "id": "b4cb7be4"
      },
      "outputs": [],
      "source": [
        "pred, score = get_prediction(test_dataset['test'])"
      ]
    },
    {
      "cell_type": "code",
      "execution_count": null,
      "id": "5e6c7bc8",
      "metadata": {
        "id": "5e6c7bc8",
        "outputId": "4f6f1bf9-2a40-41a3-e2f9-dbf9f1a1a9bd"
      },
      "outputs": [
        {
          "name": "stdout",
          "output_type": "stream",
          "text": [
            "              precision    recall  f1-score   support\n",
            "\n",
            "           0       0.67      1.00      0.80         2\n",
            "           1       0.00      0.00      0.00         2\n",
            "           2       0.50      1.00      0.67         2\n",
            "           3       1.00      0.50      0.67         2\n",
            "           4       1.00      1.00      1.00         2\n",
            "           5       0.00      0.00      0.00         2\n",
            "           6       0.00      0.00      0.00         2\n",
            "           7       1.00      0.50      0.67         2\n",
            "           8       0.00      0.00      0.00         2\n",
            "           9       0.67      1.00      0.80         2\n",
            "          10       0.50      0.50      0.50         2\n",
            "          11       1.00      1.00      1.00         2\n",
            "          12       0.50      1.00      0.67         2\n",
            "          13       0.50      0.50      0.50         2\n",
            "          14       1.00      0.50      0.67         2\n",
            "          15       0.20      0.50      0.29         2\n",
            "          16       0.50      1.00      0.67         2\n",
            "          17       1.00      1.00      1.00         2\n",
            "          18       1.00      0.50      0.67         2\n",
            "          19       0.50      1.00      0.67         2\n",
            "          20       1.00      0.50      0.67         2\n",
            "          21       1.00      0.50      0.67         2\n",
            "          22       0.33      0.50      0.40         2\n",
            "          23       1.00      1.00      1.00         2\n",
            "          24       1.00      1.00      1.00         2\n",
            "          25       0.00      0.00      0.00         2\n",
            "          26       0.00      0.00      0.00         2\n",
            "          27       1.00      0.50      0.67         2\n",
            "          28       1.00      0.50      0.67         2\n",
            "          29       0.50      0.50      0.50         2\n",
            "\n",
            "    accuracy                           0.58        60\n",
            "   macro avg       0.61      0.58      0.56        60\n",
            "weighted avg       0.61      0.58      0.56        60\n",
            "\n",
            "0.5833333333333334\n"
          ]
        },
        {
          "name": "stderr",
          "output_type": "stream",
          "text": [
            "/home/tanya/anaconda3/lib/python3.9/site-packages/sklearn/metrics/_classification.py:1471: UndefinedMetricWarning: Precision and F-score are ill-defined and being set to 0.0 in labels with no predicted samples. Use `zero_division` parameter to control this behavior.\n",
            "  _warn_prf(average, modifier, msg_start, len(result))\n",
            "/home/tanya/anaconda3/lib/python3.9/site-packages/sklearn/metrics/_classification.py:1471: UndefinedMetricWarning: Precision and F-score are ill-defined and being set to 0.0 in labels with no predicted samples. Use `zero_division` parameter to control this behavior.\n",
            "  _warn_prf(average, modifier, msg_start, len(result))\n",
            "/home/tanya/anaconda3/lib/python3.9/site-packages/sklearn/metrics/_classification.py:1471: UndefinedMetricWarning: Precision and F-score are ill-defined and being set to 0.0 in labels with no predicted samples. Use `zero_division` parameter to control this behavior.\n",
            "  _warn_prf(average, modifier, msg_start, len(result))\n"
          ]
        }
      ],
      "source": [
        "# валидация sklearn\n",
        "print(classification_report(test_labels, pred))\n",
        "print(f1_score(test_labels, pred, average='micro'))"
      ]
    },
    {
      "cell_type": "code",
      "execution_count": null,
      "id": "2514524f",
      "metadata": {
        "id": "2514524f",
        "outputId": "1f2624ea-9670-4dd8-acd3-8581bc1ef2b6"
      },
      "outputs": [
        {
          "data": {
            "text/plain": [
              "Text(0.5, 0.98, 'Plot of confusion matrix')"
            ]
          },
          "execution_count": 343,
          "metadata": {},
          "output_type": "execute_result"
        },
        {
          "data": {
            "image/png": "[encoded data removed]",
            "text/plain": [
              "<Figure size 720x720 with 2 Axes>"
            ]
          },
          "metadata": {
            "needs_background": "light"
          },
          "output_type": "display_data"
        }
      ],
      "source": [
        "cmp = ConfusionMatrixDisplay.from_predictions(test_labels, pred, xticks_rotation = 'vertical', cmap=plt.cm.Blues)\n",
        "fig = cmp.figure_\n",
        "fig.set_figwidth(10)\n",
        "fig.set_figheight(10)\n",
        "fig.suptitle('Plot of confusion matrix')"
      ]
    },
    {
      "cell_type": "markdown",
      "source": [
        "**Словарь класс/группа**:"
      ],
      "metadata": {
        "id": "j1ifO8Eozv0C"
      },
      "id": "j1ifO8Eozv0C"
    },
    {
      "cell_type": "code",
      "execution_count": null,
      "id": "fce5399c",
      "metadata": {
        "id": "fce5399c"
      },
      "outputs": [],
      "source": [
        "# словарь перевода классов в группы\n",
        "label_dist = {0: 'Документы',\n",
        "             1: 'Документы',\n",
        "             2: 'Документы',\n",
        "             3: 'Документы',\n",
        "             4: 'Документы',\n",
        "             5: 'Организация уроков',\n",
        "             6: 'Организация уроков',\n",
        "             7: 'Организация уроков',\n",
        "             8: 'Организация уроков',\n",
        "             9: 'Организация уроков',\n",
        "             10: 'Оценки',\n",
        "             11: 'Перевод/ запись в группу',\n",
        "             12: 'Практические работы',\n",
        "             13: 'Программа обучения',\n",
        "             14: 'Портал',\n",
        "             15: 'Портал',\n",
        "             16: 'Портал',\n",
        "             17: 'Портал',\n",
        "             18: 'Портал',\n",
        "             19: 'Программа обучения',\n",
        "             20: 'Программа обучения',\n",
        "             21: 'Расписание',\n",
        "             22: 'Расписание',\n",
        "             23: 'Требования ПО',\n",
        "             24: 'Требования ПО',\n",
        "             25: 'Трудоустройство',\n",
        "             26: 'Трудоустройство',\n",
        "             27: 'Трудоустройство',\n",
        "             28: 'Документы',\n",
        "             29: 'Документы',\n",
        "             30: 'Переключить на оператора',\n",
        "             }"
      ]
    },
    {
      "cell_type": "markdown",
      "source": [
        "**Тестовое предсказание для одного текста**:"
      ],
      "metadata": {
        "id": "kqmuZzCoz6Ga"
      },
      "id": "kqmuZzCoz6Ga"
    },
    {
      "cell_type": "code",
      "execution_count": null,
      "id": "c4822090",
      "metadata": {
        "id": "c4822090"
      },
      "outputs": [],
      "source": [
        "def predict_text(text):\n",
        "    # предсказание для одного текста\n",
        "    text = speller.spelled(text)\n",
        "\n",
        "    encoding = tokenizer(text, return_tensors=\"pt\", max_length=12)\n",
        "    encoding = {k: v.to(trainer.model.device) for k,v in encoding.items()}\n",
        "\n",
        "    outputs = trainer.model(**encoding)\n",
        "    logits = outputs.logits\n",
        "    sigmoid = torch.nn.Sigmoid()\n",
        "    probs = sigmoid(logits.squeeze().to(\"cpu\"))\n",
        "    predictions = np.zeros(probs.shape)\n",
        "    scores = max(probs).item()\n",
        "    predictions[np.where(probs == max(probs))] = 1  # один лейбл\n",
        "    predicted_labels = [idx for idx, label in enumerate(predictions) if label == 1.0]\n",
        "    answer = train_answer_class[train_answer_class.answer_class==predicted_labels[0]]['Answer'].values[0]\n",
        "\n",
        "    return predicted_labels[0], label_dist[predicted_labels[0]], answer, round(scores, 2)"
      ]
    },
    {
      "cell_type": "code",
      "execution_count": null,
      "id": "09f1a618",
      "metadata": {
        "scrolled": true,
        "id": "09f1a618",
        "outputId": "be93b526-1787-498f-e848-a0ebed3a0b3b"
      },
      "outputs": [
        {
          "data": {
            "text/plain": [
              "(21,\n",
              " 0.95,\n",
              " 'Расписание',\n",
              " 'Расписание каникул на 2024:\\n\\n26 декабря 2023 — 8 января 2024\\n29 апреля — 14 мая\\n7 августа — 20 августа\\n30 октября — 12 ноября')"
            ]
          },
          "execution_count": 286,
          "metadata": {},
          "output_type": "execute_result"
        }
      ],
      "source": [
        "texts = \"Когда отдыхаем?\"\n",
        "predict_text(texts)"
      ]
    }
  ],
  "metadata": {
    "kernelspec": {
      "display_name": "Python 3 (ipykernel)",
      "language": "python",
      "name": "python3"
    },
    "language_info": {
      "codemirror_mode": {
        "name": "ipython",
        "version": 3
      },
      "file_extension": ".py",
      "mimetype": "text/x-python",
      "name": "python",
      "nbconvert_exporter": "python",
      "pygments_lexer": "ipython3",
      "version": "3.9.12"
    },
    "colab": {
      "provenance": []
    }
  },
  "nbformat": 4,
  "nbformat_minor": 5
}